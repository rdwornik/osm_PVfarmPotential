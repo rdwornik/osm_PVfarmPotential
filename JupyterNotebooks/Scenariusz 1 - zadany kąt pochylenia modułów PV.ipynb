{
 "cells": [
  {
   "cell_type": "markdown",
   "metadata": {},
   "source": [
    "#### Import wymaganych bibliotek"
   ]
  },
  {
   "cell_type": "code",
   "execution_count": 1,
   "metadata": {},
   "outputs": [],
   "source": [
    "%matplotlib inline\n",
    "\n",
    "import matplotlib.pyplot as plt\n",
    "import math\n",
    "import numpy as np\n",
    "import pandas as pd\n",
    "from pandas.tseries import offsets\n",
    "\n",
    "import osmnx as ox\n",
    "import geopandas as gpd\n",
    "import maxrect\n",
    "import cvxpy\n",
    "from descartes import PolygonPatch\n",
    "from shapely.geometry import Polygon, MultiPolygon, LineString\n",
    "from shapely.ops import unary_union\n",
    "\n",
    "from timezonefinder import TimezoneFinder\n",
    "from datetime import date\n",
    "\n",
    "from pvlib import solarposition\n",
    "from pvlib import location\n",
    "from pvlib import irradiance\n",
    "from pvlib import iotools\n",
    "\n",
    "import warnings\n",
    "warnings.filterwarnings(\"ignore\")"
   ]
  },
  {
   "cell_type": "markdown",
   "metadata": {},
   "source": [
    "#### Sekcja ustawień"
   ]
  },
  {
   "cell_type": "markdown",
   "metadata": {},
   "source": [
    "###### Dane geograficzne"
   ]
  },
  {
   "cell_type": "code",
   "execution_count": 2,
   "metadata": {},
   "outputs": [],
   "source": [
    "west, south, east, north = 18.96429,52.9297,18.986743,52.933942"
   ]
  },
  {
   "cell_type": "markdown",
   "metadata": {},
   "source": [
    "###### Parametry systemu"
   ]
  },
  {
   "cell_type": "markdown",
   "metadata": {},
   "source": [
    "Parametry modułu PV"
   ]
  },
  {
   "cell_type": "code",
   "execution_count": 3,
   "metadata": {},
   "outputs": [],
   "source": [
    "# Model modułu słonecznego - Sunpower SPR-230-WHT-U\n",
    "# http://www.solardesigntool.com/components/module-panel-solar/Sunpower/SPR-230-WHT-U/specification-data-sheet.html\n",
    "\n",
    "z = 0.798 #szerokość modułu [m]\n",
    "L = 1.559 #długość modułu [m]\n",
    "\n",
    "P_n = 230.01 # moc znamionowa w warunkach STC [Wp]\n",
    "Um_mpp = 41 # napięcie znamionowe w MPP [V]\n",
    "Im_mpp = 5.61 # natężenie znamionowe w MPP [A]\n",
    "Um_oc = 48.7 # napięcie obwodu otwartego [V]\n",
    "\n",
    "T_NOCT = 45 #temperatura modułu w warunkach NOCT [C_deg]\n",
    "T_coeff_Pmax = -0.38 # procentowy współczynnik temperaturowy mocy w MPP [%/C_deg]"
   ]
  },
  {
   "cell_type": "markdown",
   "metadata": {},
   "source": [
    "Parametry inwertera"
   ]
  },
  {
   "cell_type": "code",
   "execution_count": 4,
   "metadata": {},
   "outputs": [],
   "source": [
    "#Model inwertera - KACO Blueplanet 2200 TL3\n",
    "# https://www.enfsolar.com/pv/inverter-datasheet/9447\n",
    "\n",
    "Ui_dc = 800 # maksymalne napięcie po stronie DC [V]\n",
    "Ui_mpp_max = 800 # górny zakres napięcia DC w MPP [V]\n",
    "Ui_mpp_min = 580 # dolny zakres napięcia DC w MPP [V]\n",
    "Ii_dc = 3234.1998 # maksymalne natężenie po stronie DC [A]\n",
    "\n",
    "P_i_max = 2200000 # maksymalna moc dopuszczalna na inwerterze [W]\n",
    "P_i_nom = 2000000 # moc nominalna inwertera [W]\n",
    "n_i_conv = 0.988  # sprawność inwertera [-]\n",
    "P_i_k = 2000 # konsumpcja energii na potrzeby własne [W]"
   ]
  },
  {
   "cell_type": "markdown",
   "metadata": {},
   "source": [
    "###### Sprawność pozostałych elementów systemu i straty w systemie"
   ]
  },
  {
   "cell_type": "code",
   "execution_count": 5,
   "metadata": {},
   "outputs": [],
   "source": [
    "d = 0.069\n",
    "Ac = 0.015\n",
    "\n",
    "n_i_mppt = 0.99\n",
    "n_k_dc = 0.985\n",
    "n_n = 0.02\n",
    "\n",
    "n_t = 0.99\n",
    "n_k_ac = 0.995\n",
    "\n",
    "EAF = 0.995\n",
    "timestep = 1 #[h]"
   ]
  },
  {
   "cell_type": "markdown",
   "metadata": {},
   "source": [
    "#### Wyznaczenie dostępnego terenu "
   ]
  },
  {
   "cell_type": "code",
   "execution_count": 6,
   "metadata": {},
   "outputs": [],
   "source": [
    "def download_footprints(west, south, east, north,footprints_type = 'landuse'):\n",
    "    polygon = ox.utils_geo.bbox_to_poly(north,south,east,west)\n",
    "    footprints_gdf = ox.footprints_from_polygon(polygon,footprint_type=footprints_type)\n",
    "    \n",
    "    return polygon, footprints_gdf\n",
    "\n",
    "\n",
    "def filter_footprints(footprints_gdf, footprints_type = 'landuse', chosenFootprints = ['farmland','forest','grass','meadow']):\n",
    "    filtered_gdf = footprints_gdf.loc[footprints_gdf[footprints_type].isin(chosenFootprints)]\n",
    "    \n",
    "    return filtered_gdf\n",
    "\n",
    "def modified_get_maximal_rectangle(coordinates):\n",
    "    \n",
    "    \"\"\"\n",
    "    Find the largest, inscribed, axis-aligned rectangle.\n",
    "    :param coordinates:\n",
    "        A list of of [x, y] pairs describing a closed, convex polygon.\n",
    "    \"\"\"\n",
    "\n",
    "    coordinates = np.array(coordinates)\n",
    "    x_range = np.max(coordinates, axis=0)[0]-np.min(coordinates, axis=0)[0]\n",
    "    y_range = np.max(coordinates, axis=0)[1]-np.min(coordinates, axis=0)[1]\n",
    "\n",
    "    scale = np.array([x_range, y_range])\n",
    "    sc_coordinates = coordinates/scale\n",
    "\n",
    "    poly = Polygon(sc_coordinates)\n",
    "    inside_pt = (poly.representative_point().x,\n",
    "                 poly.representative_point().y)\n",
    "\n",
    "    A1, A2, B = maxrect.pts_to_leq(sc_coordinates)\n",
    "\n",
    "    bl = cvxpy.Variable(2)\n",
    "    tr = cvxpy.Variable(2)\n",
    "    br = cvxpy.Variable(2)\n",
    "    tl = cvxpy.Variable(2)\n",
    "    obj = cvxpy.Maximize(cvxpy.log(tr[0] - bl[0]) + cvxpy.log(tr[1] - bl[1]))\n",
    "    constraints = [bl[0] == tl[0],\n",
    "                   br[0] == tr[0],\n",
    "                   tl[1] == tr[1],\n",
    "                   bl[1] == br[1],\n",
    "                   ]\n",
    "\n",
    "    for i in range(len(B)):\n",
    "        if inside_pt[0] * A1[i] + inside_pt[1] * A2[i] <= B[i]:\n",
    "            constraints.append(bl[0] * A1[i] + bl[1] * A2[i] <= B[i])\n",
    "            constraints.append(tr[0] * A1[i] + tr[1] * A2[i] <= B[i])\n",
    "            constraints.append(br[0] * A1[i] + br[1] * A2[i] <= B[i])\n",
    "            constraints.append(tl[0] * A1[i] + tl[1] * A2[i] <= B[i])\n",
    "\n",
    "        else:\n",
    "            constraints.append(bl[0] * A1[i] + bl[1] * A2[i] >= B[i])\n",
    "            constraints.append(tr[0] * A1[i] + tr[1] * A2[i] >= B[i])\n",
    "            constraints.append(br[0] * A1[i] + br[1] * A2[i] >= B[i])\n",
    "            constraints.append(tl[0] * A1[i] + tl[1] * A2[i] >= B[i])\n",
    "\n",
    "    prob = cvxpy.Problem(obj, constraints)\n",
    "        \n",
    "    try:\n",
    "        solver='ECOS'\n",
    "        prob.solve(solver=solver, verbose=False)\n",
    "    except:\n",
    "        try:\n",
    "            solver='ECOS_BB'\n",
    "            prob.solve(solver=solver, verbose=False)\n",
    "        except:\n",
    "            try:\n",
    "                solver='CVXOPT'\n",
    "                prob.solve(solver=solver, verbose=False)\n",
    "            except:\n",
    "                try:\n",
    "                    solver='OSQP'\n",
    "                    prob.solve(solver=solver, verbose=False)\n",
    "                except:\n",
    "                    try:\n",
    "                        solver='GLPK'\n",
    "                        prob.solve(solver=solver, verbose=False)   \n",
    "                    except:\n",
    "                        try:\n",
    "                            solver='GLPK_MI'\n",
    "                            prob.solve(solver=solver, verbose=False)  \n",
    "                        except:\n",
    "                            solver='SCS'\n",
    "                            prob.solve(solver=solver, verbose=False)  \n",
    "    \n",
    "    print('Used solver: {0}'.format(solver))\n",
    "    bottom_left = np.array(bl.value).T * scale\n",
    "    top_right = np.array(tr.value).T * scale\n",
    "\n",
    "    return list(bottom_left), list(top_right)\n",
    "\n",
    "def fit_plot_ranctangle_polygon(polygon):\n",
    "    coordinates = list(polygon.exterior.coords)\n",
    "    ll, ur = maxrect.get_maximal_rectangle(coordinates)\n",
    "    calculated_coordinates = maxrect.rect2poly(ll,ur)\n",
    "    \n",
    "    poly_coordinates = Polygon(coordinates)\n",
    "    poly_calculated = Polygon(calculated_coordinates)\n",
    "    \n",
    "    x,y = poly_coordinates.exterior.xy\n",
    "    a,b = poly_calculated.exterior.xy\n",
    "    \n",
    "    plt.plot(x,y,color=\"red\")\n",
    "    plt.plot(a,b,color=\"blue\")\n",
    "    plt.plot()\n",
    "    \n",
    "    return poly_calculated"
   ]
  },
  {
   "cell_type": "code",
   "execution_count": 7,
   "metadata": {},
   "outputs": [
    {
     "name": "stdout",
     "output_type": "stream",
     "text": [
      "Szerokość geograficzna: 52.931821\n",
      "Długość geograficzna: 18.975516499999998\n"
     ]
    }
   ],
   "source": [
    "lon = (west + east)/2\n",
    "lat = (south+north)/2\n",
    "\n",
    "print(\"Szerokość geograficzna: {0}\\nDługość geograficzna: {1}\".format(lat,lon))"
   ]
  },
  {
   "cell_type": "markdown",
   "metadata": {},
   "source": [
    "###### Stworzenie wielokąta z wejściowego \"bounding box'a\", pobranie footprintów dla danego obszaru"
   ]
  },
  {
   "cell_type": "code",
   "execution_count": 8,
   "metadata": {},
   "outputs": [],
   "source": [
    "poly, footprints_landuse_gdf = download_footprints(west,south,east,north)\n",
    "filtered_footprints_landuse_gdf = filter_footprints(footprints_landuse_gdf)"
   ]
  },
  {
   "cell_type": "code",
   "execution_count": 9,
   "metadata": {},
   "outputs": [
    {
     "name": "stdout",
     "output_type": "stream",
     "text": [
      "Używany system współrzędnych:\n",
      "epsg:4326\n"
     ]
    }
   ],
   "source": [
    "print(\"Używany system współrzędnych:\\n{0}\".format(filtered_footprints_landuse_gdf.crs))"
   ]
  },
  {
   "cell_type": "code",
   "execution_count": 10,
   "metadata": {
    "scrolled": false
   },
   "outputs": [
    {
     "data": {
      "image/png": "[encoded data removed]",
      "text/plain": [
       "<Figure size 432x288 with 1 Axes>"
      ]
     },
     "metadata": {
      "needs_background": "light"
     },
     "output_type": "display_data"
    }
   ],
   "source": [
    "forest_footprints = filtered_footprints_landuse_gdf[filtered_footprints_landuse_gdf['landuse']=='forest']\n",
    "farmland_footprints = filtered_footprints_landuse_gdf[filtered_footprints_landuse_gdf['landuse']=='farmland']\n",
    "meadow_footprints = filtered_footprints_landuse_gdf[filtered_footprints_landuse_gdf['landuse']=='meadow']\n",
    "grass_footprints = filtered_footprints_landuse_gdf[filtered_footprints_landuse_gdf['landuse']=='grass']\n",
    "\n",
    "fig, ax = plt.subplots(figsize=(6,4))\n",
    "\n",
    "# Lasy\n",
    "forest_footprints.plot(ax=ax, facecolor='forestgreen')\n",
    "\n",
    "# Pola uprawne\n",
    "farmland_footprints.plot(ax=ax, facecolor=\"khaki\")\n",
    "\n",
    "# Łąki\n",
    "meadow_footprints.plot(ax=ax, facecolor=\"darkseagreen\")\n",
    "\n",
    "# Tereny trawiaste\n",
    "grass_footprints.plot(ax=ax, facecolor='greenyellow')\n",
    "\n",
    "plt.tight_layout()"
   ]
  },
  {
   "cell_type": "code",
   "execution_count": 11,
   "metadata": {},
   "outputs": [
    {
     "data": {
      "text/plain": [
       "<matplotlib.axes._subplots.AxesSubplot at 0x1f1073d7c10>"
      ]
     },
     "execution_count": 11,
     "metadata": {},
     "output_type": "execute_result"
    },
    {
     "data": {
      "image/png": "[encoded data removed]",
      "text/plain": [
       "<Figure size 432x288 with 1 Axes>"
      ]
     },
     "metadata": {
      "needs_background": "light"
     },
     "output_type": "display_data"
    }
   ],
   "source": [
    "landuse_bbox = filtered_footprints_landuse_gdf['geometry'].intersection(poly)\n",
    "landuse_bbox_gdf = gpd.GeoDataFrame(geometry=landuse_bbox)\n",
    "landuse_bbox_gdf = landuse_bbox_gdf[landuse_bbox_gdf.is_empty == False]\n",
    "landuse_bbox_gdf.plot()"
   ]
  },
  {
   "cell_type": "code",
   "execution_count": 12,
   "metadata": {},
   "outputs": [],
   "source": [
    "def plot_poly(poly):\n",
    "    BLUE = '#6699cc'\n",
    "    fig = plt.figure() \n",
    "    ax = fig.gca() \n",
    "    ax.add_patch(PolygonPatch(poly, fc=BLUE, ec=BLUE, alpha=0.5, zorder=2 ))\n",
    "    ax.axis('scaled')\n",
    "    plt.show()"
   ]
  },
  {
   "cell_type": "code",
   "execution_count": 13,
   "metadata": {},
   "outputs": [],
   "source": [
    "area_polygon = landuse_bbox_gdf.unary_union"
   ]
  },
  {
   "cell_type": "code",
   "execution_count": 14,
   "metadata": {},
   "outputs": [
    {
     "data": {
      "image/png": "[encoded data removed]",
      "text/plain": [
       "<Figure size 432x288 with 1 Axes>"
      ]
     },
     "metadata": {
      "needs_background": "light"
     },
     "output_type": "display_data"
    }
   ],
   "source": [
    "if isinstance(area_polygon, MultiPolygon):\n",
    "    biggest_poly = 0\n",
    "    multipoly = area_polygon\n",
    "    for poly in list(multipoly):\n",
    "        if(poly.area > biggest_poly):\n",
    "            new_area_polygon = poly\n",
    "            biggest_poly = poly.area\n",
    "    area_polygon = new_area_polygon\n",
    "    \n",
    "plot_poly(area_polygon)"
   ]
  },
  {
   "cell_type": "code",
   "execution_count": 15,
   "metadata": {},
   "outputs": [
    {
     "data": {
      "image/png": "[encoded data removed]",
      "text/plain": [
       "<Figure size 432x288 with 1 Axes>"
      ]
     },
     "metadata": {
      "needs_background": "light"
     },
     "output_type": "display_data"
    }
   ],
   "source": [
    "area_convexhull_polygon = area_polygon.convex_hull\n",
    "plot_poly(area_convexhull_polygon)"
   ]
  },
  {
   "cell_type": "code",
   "execution_count": 16,
   "metadata": {},
   "outputs": [
    {
     "name": "stdout",
     "output_type": "stream",
     "text": [
      "Wykorzystywana projekcja UTM:\n",
      "+proj=utm +zone=34 +ellps=WGS84 +datum=WGS84 +units=m +no_defs +type=crs\n"
     ]
    }
   ],
   "source": [
    "area_polygon_utm, crs_utm = ox.projection.project_geometry(area_polygon)\n",
    "area_convexhull_polygon_utm, crs_utm = ox.projection.project_geometry(area_convexhull_polygon)\n",
    "\n",
    "print(\"Wykorzystywana projekcja UTM:\\n{0}\".format(crs_utm))"
   ]
  },
  {
   "cell_type": "code",
   "execution_count": 17,
   "metadata": {},
   "outputs": [],
   "source": [
    "#monkey patch function\n",
    "maxrect.get_maximal_rectangle = modified_get_maximal_rectangle"
   ]
  },
  {
   "cell_type": "markdown",
   "metadata": {},
   "source": [
    "###### Porównanie wyznaczonego obszaru poprzez algorytm w przypadku braku uproszczenia obszaru oraz z zastosowaną wcześniej operacją Convex Hull "
   ]
  },
  {
   "cell_type": "code",
   "execution_count": 18,
   "metadata": {},
   "outputs": [
    {
     "name": "stdout",
     "output_type": "stream",
     "text": [
      "Used solver: ECOS\n"
     ]
    },
    {
     "data": {
      "image/png": "[encoded data removed]",
      "text/plain": [
       "<Figure size 432x288 with 1 Axes>"
      ]
     },
     "metadata": {
      "needs_background": "light"
     },
     "output_type": "display_data"
    }
   ],
   "source": [
    "poly_calculated = fit_plot_ranctangle_polygon(area_polygon_utm)"
   ]
  },
  {
   "cell_type": "code",
   "execution_count": 19,
   "metadata": {},
   "outputs": [
    {
     "name": "stdout",
     "output_type": "stream",
     "text": [
      "Used solver: ECOS\n"
     ]
    },
    {
     "data": {
      "image/png": "[encoded data removed]",
      "text/plain": [
       "<Figure size 432x288 with 1 Axes>"
      ]
     },
     "metadata": {
      "needs_background": "light"
     },
     "output_type": "display_data"
    }
   ],
   "source": [
    "convexhull_poly_calculated = fit_plot_ranctangle_polygon(area_convexhull_polygon_utm)"
   ]
  },
  {
   "cell_type": "code",
   "execution_count": 20,
   "metadata": {},
   "outputs": [
    {
     "name": "stdout",
     "output_type": "stream",
     "text": [
      "Finalny obszar dostępnego terenu: 261002.01 [m2]\n"
     ]
    }
   ],
   "source": [
    "print(\"Finalny obszar dostępnego terenu: {0} [m2]\".format(round(convexhull_poly_calculated.area,2)))"
   ]
  },
  {
   "cell_type": "code",
   "execution_count": 21,
   "metadata": {},
   "outputs": [],
   "source": [
    "x_coord_list = []\n",
    "y_coord_list = []\n",
    "\n",
    "for x,y in convexhull_poly_calculated.exterior.coords:\n",
    "    x_coord_list.append(x)\n",
    "    y_coord_list.append(y)\n",
    "    \n",
    "# szerokość terenu\n",
    "x = math.ceil(max(x_coord_list) - min(x_coord_list)) \n",
    "\n",
    "# długość terenu\n",
    "y = math.ceil(max(y_coord_list) - min(y_coord_list)) "
   ]
  },
  {
   "cell_type": "markdown",
   "metadata": {},
   "source": [
    "#### Modelowanie i symulacja pracy instalacji"
   ]
  },
  {
   "cell_type": "code",
   "execution_count": 22,
   "metadata": {},
   "outputs": [
    {
     "name": "stdout",
     "output_type": "stream",
     "text": [
      "Strefa czasowa: Europe/Warsaw\n",
      "Obliczenia dla przedziału czasowego: 2020-01-01 00:00:00 - 2021-01-01 00:00:00\n"
     ]
    }
   ],
   "source": [
    "tf = TimezoneFinder()\n",
    "tz = tf.timezone_at(lng=lon, lat=lat)\n",
    "\n",
    "currentYear = date.today().year\n",
    "yearStart= date.today() - offsets.YearBegin()\n",
    "yearEnd = yearStart.replace(year = yearStart.year + 1)\n",
    "\n",
    "times = pd.date_range(yearStart,yearEnd, closed='left',freq='H', tz=tz)\n",
    "\n",
    "print('Strefa czasowa: ' + tz)\n",
    "print('Obliczenia dla przedziału czasowego: {0} - {1}'.format(yearStart,yearEnd))"
   ]
  },
  {
   "cell_type": "code",
   "execution_count": 23,
   "metadata": {},
   "outputs": [
    {
     "data": {
      "text/html": [
       "<div>\n",
       "<style scoped>\n",
       "    .dataframe tbody tr th:only-of-type {\n",
       "        vertical-align: middle;\n",
       "    }\n",
       "\n",
       "    .dataframe tbody tr th {\n",
       "        vertical-align: top;\n",
       "    }\n",
       "\n",
       "    .dataframe thead th {\n",
       "        text-align: right;\n",
       "    }\n",
       "</style>\n",
       "<table border=\"1\" class=\"dataframe\">\n",
       "  <thead>\n",
       "    <tr style=\"text-align: right;\">\n",
       "      <th></th>\n",
       "      <th>ghi</th>\n",
       "      <th>dni</th>\n",
       "      <th>dhi</th>\n",
       "      <th>temp_air</th>\n",
       "      <th>wind_speed</th>\n",
       "      <th>pressure</th>\n",
       "    </tr>\n",
       "  </thead>\n",
       "  <tbody>\n",
       "    <tr>\n",
       "      <th>2020-01-01 00:00:00+01:00</th>\n",
       "      <td>0.0</td>\n",
       "      <td>0.0</td>\n",
       "      <td>0.0</td>\n",
       "      <td>0.00</td>\n",
       "      <td>0.00</td>\n",
       "      <td>0.0</td>\n",
       "    </tr>\n",
       "    <tr>\n",
       "      <th>2020-01-01 01:00:00+01:00</th>\n",
       "      <td>0.0</td>\n",
       "      <td>0.0</td>\n",
       "      <td>0.0</td>\n",
       "      <td>-2.65</td>\n",
       "      <td>5.09</td>\n",
       "      <td>98721.0</td>\n",
       "    </tr>\n",
       "    <tr>\n",
       "      <th>2020-01-01 02:00:00+01:00</th>\n",
       "      <td>0.0</td>\n",
       "      <td>0.0</td>\n",
       "      <td>0.0</td>\n",
       "      <td>-2.87</td>\n",
       "      <td>5.36</td>\n",
       "      <td>98655.0</td>\n",
       "    </tr>\n",
       "    <tr>\n",
       "      <th>2020-01-01 03:00:00+01:00</th>\n",
       "      <td>0.0</td>\n",
       "      <td>0.0</td>\n",
       "      <td>0.0</td>\n",
       "      <td>-3.10</td>\n",
       "      <td>5.63</td>\n",
       "      <td>98589.0</td>\n",
       "    </tr>\n",
       "    <tr>\n",
       "      <th>2020-01-01 04:00:00+01:00</th>\n",
       "      <td>0.0</td>\n",
       "      <td>0.0</td>\n",
       "      <td>0.0</td>\n",
       "      <td>-3.32</td>\n",
       "      <td>5.90</td>\n",
       "      <td>98563.0</td>\n",
       "    </tr>\n",
       "  </tbody>\n",
       "</table>\n",
       "</div>"
      ],
      "text/plain": [
       "                           ghi  dni  dhi  temp_air  wind_speed  pressure\n",
       "2020-01-01 00:00:00+01:00  0.0  0.0  0.0      0.00        0.00       0.0\n",
       "2020-01-01 01:00:00+01:00  0.0  0.0  0.0     -2.65        5.09   98721.0\n",
       "2020-01-01 02:00:00+01:00  0.0  0.0  0.0     -2.87        5.36   98655.0\n",
       "2020-01-01 03:00:00+01:00  0.0  0.0  0.0     -3.10        5.63   98589.0\n",
       "2020-01-01 04:00:00+01:00  0.0  0.0  0.0     -3.32        5.90   98563.0"
      ]
     },
     "execution_count": 23,
     "metadata": {},
     "output_type": "execute_result"
    }
   ],
   "source": [
    "data, months_selected, inputs, meta = iotools.get_pvgis_tmy(lat,lon)\n",
    "\n",
    "altitude = inputs['location']['elevation']\n",
    "\n",
    "weather_data = data\n",
    "weather_data['time[UTC]'] = weather_data.index\n",
    "weather_data = weather_data.assign(time_temp = weather_data['time[UTC]'].apply(lambda x: x.replace(year=currentYear)))\n",
    "weather_data['time_local'] = weather_data['time_temp'].dt.tz_convert(tz)\n",
    "weather_data.index = weather_data['time_local']\n",
    "weather_data.drop(['time[UTC]','time_temp','time_local'], axis=1, inplace=True)\n",
    "\n",
    "times_df = pd.DataFrame(index=times)\n",
    "weather = times_df.join(weather_data, how='left')\n",
    "weather.fillna(0,inplace=True)\n",
    "\n",
    "weather = weather[['G(h)','Gb(n)','Gd(h)','T2m','WS10m','SP']]\n",
    "weather.columns = ['ghi', 'dni', 'dhi', 'temp_air', 'wind_speed','pressure']\n",
    "\n",
    "weather.head()"
   ]
  },
  {
   "cell_type": "code",
   "execution_count": 24,
   "metadata": {},
   "outputs": [
    {
     "name": "stdout",
     "output_type": "stream",
     "text": [
      "Wysokość n.p.m.: 91.0 [m]\n"
     ]
    }
   ],
   "source": [
    "print(\"Wysokość n.p.m.: {0} [m]\".format(altitude))"
   ]
  },
  {
   "cell_type": "code",
   "execution_count": 25,
   "metadata": {},
   "outputs": [
    {
     "data": {
      "text/html": [
       "<div>\n",
       "<style scoped>\n",
       "    .dataframe tbody tr th:only-of-type {\n",
       "        vertical-align: middle;\n",
       "    }\n",
       "\n",
       "    .dataframe tbody tr th {\n",
       "        vertical-align: top;\n",
       "    }\n",
       "\n",
       "    .dataframe thead th {\n",
       "        text-align: right;\n",
       "    }\n",
       "</style>\n",
       "<table border=\"1\" class=\"dataframe\">\n",
       "  <thead>\n",
       "    <tr style=\"text-align: right;\">\n",
       "      <th></th>\n",
       "      <th>apparent_zenith</th>\n",
       "      <th>zenith</th>\n",
       "      <th>apparent_elevation</th>\n",
       "      <th>elevation</th>\n",
       "      <th>azimuth</th>\n",
       "      <th>equation_of_time</th>\n",
       "    </tr>\n",
       "  </thead>\n",
       "  <tbody>\n",
       "    <tr>\n",
       "      <th>2020-01-01 00:00:00+01:00</th>\n",
       "      <td>150.031507</td>\n",
       "      <td>150.031507</td>\n",
       "      <td>-60.031507</td>\n",
       "      <td>-60.031507</td>\n",
       "      <td>5.918322</td>\n",
       "      <td>-3.061851</td>\n",
       "    </tr>\n",
       "    <tr>\n",
       "      <th>2020-01-01 01:00:00+01:00</th>\n",
       "      <td>147.075300</td>\n",
       "      <td>147.075300</td>\n",
       "      <td>-57.075300</td>\n",
       "      <td>-57.075300</td>\n",
       "      <td>31.925991</td>\n",
       "      <td>-3.081724</td>\n",
       "    </tr>\n",
       "    <tr>\n",
       "      <th>2020-01-01 02:00:00+01:00</th>\n",
       "      <td>140.949505</td>\n",
       "      <td>140.949505</td>\n",
       "      <td>-50.949505</td>\n",
       "      <td>-50.949505</td>\n",
       "      <td>53.099200</td>\n",
       "      <td>-3.101587</td>\n",
       "    </tr>\n",
       "    <tr>\n",
       "      <th>2020-01-01 03:00:00+01:00</th>\n",
       "      <td>133.014862</td>\n",
       "      <td>133.014862</td>\n",
       "      <td>-43.014862</td>\n",
       "      <td>-43.014862</td>\n",
       "      <td>69.723473</td>\n",
       "      <td>-3.121441</td>\n",
       "    </tr>\n",
       "    <tr>\n",
       "      <th>2020-01-01 04:00:00+01:00</th>\n",
       "      <td>124.235861</td>\n",
       "      <td>124.235861</td>\n",
       "      <td>-34.235861</td>\n",
       "      <td>-34.235861</td>\n",
       "      <td>83.389825</td>\n",
       "      <td>-3.141287</td>\n",
       "    </tr>\n",
       "  </tbody>\n",
       "</table>\n",
       "</div>"
      ],
      "text/plain": [
       "                           apparent_zenith      zenith  apparent_elevation  \\\n",
       "2020-01-01 00:00:00+01:00       150.031507  150.031507          -60.031507   \n",
       "2020-01-01 01:00:00+01:00       147.075300  147.075300          -57.075300   \n",
       "2020-01-01 02:00:00+01:00       140.949505  140.949505          -50.949505   \n",
       "2020-01-01 03:00:00+01:00       133.014862  133.014862          -43.014862   \n",
       "2020-01-01 04:00:00+01:00       124.235861  124.235861          -34.235861   \n",
       "\n",
       "                           elevation    azimuth  equation_of_time  \n",
       "2020-01-01 00:00:00+01:00 -60.031507   5.918322         -3.061851  \n",
       "2020-01-01 01:00:00+01:00 -57.075300  31.925991         -3.081724  \n",
       "2020-01-01 02:00:00+01:00 -50.949505  53.099200         -3.101587  \n",
       "2020-01-01 03:00:00+01:00 -43.014862  69.723473         -3.121441  \n",
       "2020-01-01 04:00:00+01:00 -34.235861  83.389825         -3.141287  "
      ]
     },
     "execution_count": 25,
     "metadata": {},
     "output_type": "execute_result"
    }
   ],
   "source": [
    "solpos = solarposition.get_solarposition(times,lat,lon,altitude,pressure=weather['pressure'],temperature=weather['temp_air'])\n",
    "solpos.head()"
   ]
  },
  {
   "cell_type": "markdown",
   "metadata": {},
   "source": [
    "###### Wyznaczenie kąta padania promieni słonecznych w południe słoneczne podczas przesilenia zimowego"
   ]
  },
  {
   "cell_type": "code",
   "execution_count": 26,
   "metadata": {},
   "outputs": [
    {
     "data": {
      "text/html": [
       "<div>\n",
       "<style scoped>\n",
       "    .dataframe tbody tr th:only-of-type {\n",
       "        vertical-align: middle;\n",
       "    }\n",
       "\n",
       "    .dataframe tbody tr th {\n",
       "        vertical-align: top;\n",
       "    }\n",
       "\n",
       "    .dataframe thead th {\n",
       "        text-align: right;\n",
       "    }\n",
       "</style>\n",
       "<table border=\"1\" class=\"dataframe\">\n",
       "  <thead>\n",
       "    <tr style=\"text-align: right;\">\n",
       "      <th></th>\n",
       "      <th>date</th>\n",
       "      <th>elevation</th>\n",
       "    </tr>\n",
       "  </thead>\n",
       "  <tbody>\n",
       "    <tr>\n",
       "      <th>0</th>\n",
       "      <td>2020-01-01</td>\n",
       "      <td>13.993367</td>\n",
       "    </tr>\n",
       "    <tr>\n",
       "      <th>1</th>\n",
       "      <td>2020-01-02</td>\n",
       "      <td>14.080874</td>\n",
       "    </tr>\n",
       "    <tr>\n",
       "      <th>2</th>\n",
       "      <td>2020-01-03</td>\n",
       "      <td>14.175829</td>\n",
       "    </tr>\n",
       "    <tr>\n",
       "      <th>3</th>\n",
       "      <td>2020-01-04</td>\n",
       "      <td>14.278187</td>\n",
       "    </tr>\n",
       "    <tr>\n",
       "      <th>4</th>\n",
       "      <td>2020-01-05</td>\n",
       "      <td>14.387900</td>\n",
       "    </tr>\n",
       "    <tr>\n",
       "      <th>...</th>\n",
       "      <td>...</td>\n",
       "      <td>...</td>\n",
       "    </tr>\n",
       "    <tr>\n",
       "      <th>361</th>\n",
       "      <td>2020-12-27</td>\n",
       "      <td>13.705098</td>\n",
       "    </tr>\n",
       "    <tr>\n",
       "      <th>362</th>\n",
       "      <td>2020-12-28</td>\n",
       "      <td>13.760638</td>\n",
       "    </tr>\n",
       "    <tr>\n",
       "      <th>363</th>\n",
       "      <td>2020-12-29</td>\n",
       "      <td>13.823756</td>\n",
       "    </tr>\n",
       "    <tr>\n",
       "      <th>364</th>\n",
       "      <td>2020-12-30</td>\n",
       "      <td>13.894420</td>\n",
       "    </tr>\n",
       "    <tr>\n",
       "      <th>365</th>\n",
       "      <td>2020-12-31</td>\n",
       "      <td>13.972599</td>\n",
       "    </tr>\n",
       "  </tbody>\n",
       "</table>\n",
       "<p>366 rows × 2 columns</p>\n",
       "</div>"
      ],
      "text/plain": [
       "          date  elevation\n",
       "0   2020-01-01  13.993367\n",
       "1   2020-01-02  14.080874\n",
       "2   2020-01-03  14.175829\n",
       "3   2020-01-04  14.278187\n",
       "4   2020-01-05  14.387900\n",
       "..         ...        ...\n",
       "361 2020-12-27  13.705098\n",
       "362 2020-12-28  13.760638\n",
       "363 2020-12-29  13.823756\n",
       "364 2020-12-30  13.894420\n",
       "365 2020-12-31  13.972599\n",
       "\n",
       "[366 rows x 2 columns]"
      ]
     },
     "execution_count": 26,
     "metadata": {},
     "output_type": "execute_result"
    }
   ],
   "source": [
    "solpos_elevation = solpos[['elevation']]\n",
    "solpos_elevation = solpos_elevation.assign(date = pd.to_datetime(solpos_elevation.index.date))\n",
    "solar_noons = solpos_elevation.groupby(['date'])['elevation'].max().reset_index()\n",
    "solar_noons"
   ]
  },
  {
   "cell_type": "markdown",
   "metadata": {},
   "source": [
    "Wysokość słońca w południe słoneczne podczas przesilenia letniego (słońce najwyżej w ciągu roku)"
   ]
  },
  {
   "cell_type": "code",
   "execution_count": 27,
   "metadata": {},
   "outputs": [
    {
     "data": {
      "text/html": [
       "<div>\n",
       "<style scoped>\n",
       "    .dataframe tbody tr th:only-of-type {\n",
       "        vertical-align: middle;\n",
       "    }\n",
       "\n",
       "    .dataframe tbody tr th {\n",
       "        vertical-align: top;\n",
       "    }\n",
       "\n",
       "    .dataframe thead th {\n",
       "        text-align: right;\n",
       "    }\n",
       "</style>\n",
       "<table border=\"1\" class=\"dataframe\">\n",
       "  <thead>\n",
       "    <tr style=\"text-align: right;\">\n",
       "      <th></th>\n",
       "      <th>date</th>\n",
       "      <th>elevation</th>\n",
       "    </tr>\n",
       "  </thead>\n",
       "  <tbody>\n",
       "    <tr>\n",
       "      <th>172</th>\n",
       "      <td>2020-06-21</td>\n",
       "      <td>60.38262</td>\n",
       "    </tr>\n",
       "  </tbody>\n",
       "</table>\n",
       "</div>"
      ],
      "text/plain": [
       "          date  elevation\n",
       "172 2020-06-21   60.38262"
      ]
     },
     "execution_count": 27,
     "metadata": {},
     "output_type": "execute_result"
    }
   ],
   "source": [
    "solar_noon_max = solar_noons[solar_noons['elevation'] == max(solar_noons['elevation'])]\n",
    "solar_noon_max"
   ]
  },
  {
   "cell_type": "markdown",
   "metadata": {},
   "source": [
    "Wysokość słońca w południe słoneczne podczas przesilenia zimowego (słońce najniżej w ciągu roku)"
   ]
  },
  {
   "cell_type": "code",
   "execution_count": 28,
   "metadata": {},
   "outputs": [
    {
     "data": {
      "text/html": [
       "<div>\n",
       "<style scoped>\n",
       "    .dataframe tbody tr th:only-of-type {\n",
       "        vertical-align: middle;\n",
       "    }\n",
       "\n",
       "    .dataframe tbody tr th {\n",
       "        vertical-align: top;\n",
       "    }\n",
       "\n",
       "    .dataframe thead th {\n",
       "        text-align: right;\n",
       "    }\n",
       "</style>\n",
       "<table border=\"1\" class=\"dataframe\">\n",
       "  <thead>\n",
       "    <tr style=\"text-align: right;\">\n",
       "      <th></th>\n",
       "      <th>date</th>\n",
       "      <th>elevation</th>\n",
       "    </tr>\n",
       "  </thead>\n",
       "  <tbody>\n",
       "    <tr>\n",
       "      <th>354</th>\n",
       "      <td>2020-12-20</td>\n",
       "      <td>13.530463</td>\n",
       "    </tr>\n",
       "  </tbody>\n",
       "</table>\n",
       "</div>"
      ],
      "text/plain": [
       "          date  elevation\n",
       "354 2020-12-20  13.530463"
      ]
     },
     "execution_count": 28,
     "metadata": {},
     "output_type": "execute_result"
    }
   ],
   "source": [
    "solar_noon_min = solar_noons[solar_noons['elevation'] == min(solar_noons['elevation'])]\n",
    "solar_noon_min"
   ]
  },
  {
   "cell_type": "markdown",
   "metadata": {},
   "source": [
    "#### Wyznaczenie minimalnego odstępu między rzędami paneli"
   ]
  },
  {
   "cell_type": "code",
   "execution_count": 29,
   "metadata": {},
   "outputs": [],
   "source": [
    "b = round(abs(lat)) #kąt pochylenia modułów słonecznych [deg]"
   ]
  },
  {
   "cell_type": "code",
   "execution_count": 30,
   "metadata": {},
   "outputs": [
    {
     "name": "stdout",
     "output_type": "stream",
     "text": [
      "Długość cienia rzucanego przez rząd modułów PV w południe słoneczne podczas przesilenia zimowego: 5.17 [m]\n"
     ]
    }
   ],
   "source": [
    "a = float(solar_noon_min['elevation']) #kąt padania promieni słonecznych w południe słoneczne podczas przesilenia zimowego [deg]\n",
    "\n",
    "D = (L*np.sin(np.deg2rad(180-a-b)))/np.sin(np.deg2rad(a))\n",
    "Lx = L * np.cos(np.deg2rad(b))\n",
    "Ly= L * np.sin(np.deg2rad(b))\n",
    "Dr = round(D - Lx,2)\n",
    "\n",
    "print(\"Długość cienia rzucanego przez rząd modułów PV w południe słoneczne podczas przesilenia zimowego: \" + str(Dr) + \" [m]\")"
   ]
  },
  {
   "cell_type": "code",
   "execution_count": 31,
   "metadata": {},
   "outputs": [
    {
     "name": "stdout",
     "output_type": "stream",
     "text": [
      "Maksymalna ilość modułów PV w rzędach: 705\n",
      "Maksymalna ilość rzędów: 73\n",
      "Maksymalna ilość modułów PV: 51465\n"
     ]
    }
   ],
   "source": [
    "#obszar na szerokość\n",
    "x_a = x - 10\n",
    "n_x = int(x_a / z)\n",
    "\n",
    "#obszar na długość\n",
    "y_a = y - 10\n",
    "n_y = int((y_a + Dr)/ D)\n",
    "\n",
    "n_max = n_x * n_y\n",
    "\n",
    "print(\"Maksymalna ilość modułów PV w rzędach: \" + str(n_x))\n",
    "print(\"Maksymalna ilość rzędów: \" + str(n_y))\n",
    "print(\"Maksymalna ilość modułów PV: \" + str(n_max))"
   ]
  },
  {
   "cell_type": "code",
   "execution_count": 32,
   "metadata": {},
   "outputs": [
    {
     "name": "stdout",
     "output_type": "stream",
     "text": [
      "n_s przed korektą: 16\n",
      "n_s * Um_oc równe 779.2, Ui_dc równe 800\n",
      "\n",
      "n_s po uwzględnieniu warunku na maksymalną moc na wejściu do inwertera równe: 16\n"
     ]
    }
   ],
   "source": [
    "Ui_avg = (Ui_mpp_min + Ui_mpp_max)/2\n",
    "n_s = math.floor(Ui_avg/Um_mpp)\n",
    "\n",
    "print(\"n_s przed korektą: \" + str(n_s))\n",
    "print(\"n_s * Um_oc równe {0}, Ui_dc równe {1}\".format(n_s*Um_oc,Ui_dc))\n",
    "\n",
    "while(n_s*Um_oc > Ui_dc):\n",
    "    n_s = n_s - 1\n",
    "    print(\"n_s zredukowane o 1, bieżąca wartość n_s równa {0}\".format(n_s))\n",
    "    \n",
    "print(\"\\nn_s po uwzględnieniu warunku na maksymalną moc na wejściu do inwertera równe: {0}\".format(n_s))  "
   ]
  },
  {
   "cell_type": "code",
   "execution_count": 33,
   "metadata": {},
   "outputs": [
    {
     "name": "stdout",
     "output_type": "stream",
     "text": [
      "n_r równe: 576\n",
      "Ilość inwerterów przed korektą: 6\n",
      "Ilość falowników zmniejszona o 1, obecna wartość: 5\n",
      "\n",
      "Finalna ilość inwerterów: 5\n",
      "Finalna ilość modułów PV: 46080\n"
     ]
    }
   ],
   "source": [
    "n_r = math.floor(Ii_dc/Im_mpp)\n",
    "n_i = math.ceil(n_max/(n_s*n_r))\n",
    "\n",
    "print(\"n_r równe: {0}\".format(n_r))\n",
    "print(\"Ilość inwerterów przed korektą: {0}\".format(n_i))\n",
    "\n",
    "while(n_s*n_r*n_i>n_max):\n",
    "    n_i = n_i-1\n",
    "    print(\"Ilość falowników zmniejszona o 1, obecna wartość: {0}\".format(n_i))\n",
    "    \n",
    "n_pv = n_s*n_r*n_i\n",
    "\n",
    "print(\"\\nFinalna ilość inwerterów: {0}\\nFinalna ilość modułów PV: {1}\".format(n_i,n_pv))"
   ]
  },
  {
   "cell_type": "code",
   "execution_count": 34,
   "metadata": {},
   "outputs": [
    {
     "name": "stdout",
     "output_type": "stream",
     "text": [
      "Wstępna moc zainstalowana (przy maksymalnej ilości modułów PV jaką można zmieścić na wyznaczonym obszarze): 11.84 [MW]\n",
      "Moc zainstalowana po przeliczeniu: 10.6 [MW]\n"
     ]
    }
   ],
   "source": [
    "P_c_init = n_max * P_n\n",
    "P_c = n_pv * P_n\n",
    "\n",
    "print(\"Wstępna moc zainstalowana (przy maksymalnej ilości modułów PV jaką można zmieścić na wyznaczonym obszarze): {0} [MW]\".format(round(P_c_init/1000000,2)))\n",
    "print(\"Moc zainstalowana po przeliczeniu: {0} [MW]\".format(round(P_c/1000000,2)))"
   ]
  },
  {
   "cell_type": "markdown",
   "metadata": {},
   "source": [
    "#### Napromieniowanie na powierzchnię pochyłą"
   ]
  },
  {
   "cell_type": "code",
   "execution_count": 35,
   "metadata": {},
   "outputs": [
    {
     "data": {
      "text/plain": [
       "53"
      ]
     },
     "execution_count": 35,
     "metadata": {},
     "output_type": "execute_result"
    }
   ],
   "source": [
    "site = location.Location(lat,lon,tz,altitude)\n",
    "azimuth = 180 if lat>=0 else 0\n",
    "tilt = b\n",
    "\n",
    "tilt"
   ]
  },
  {
   "cell_type": "code",
   "execution_count": 36,
   "metadata": {},
   "outputs": [
    {
     "data": {
      "text/plain": [
       "Location: \n",
       "  name: None\n",
       "  latitude: 52.931821\n",
       "  longitude: 18.975516499999998\n",
       "  altitude: 91.0\n",
       "  tz: Europe/Warsaw"
      ]
     },
     "execution_count": 36,
     "metadata": {},
     "output_type": "execute_result"
    }
   ],
   "source": [
    "site"
   ]
  },
  {
   "cell_type": "code",
   "execution_count": 37,
   "metadata": {},
   "outputs": [],
   "source": [
    "irradiance_tbl = irradiance.get_total_irradiance(\n",
    "        surface_tilt=tilt,\n",
    "        surface_azimuth=azimuth,\n",
    "        dni=weather['dni'],\n",
    "        ghi=weather['ghi'],\n",
    "        dhi=weather['dhi'],\n",
    "        solar_zenith=solpos['apparent_zenith'],\n",
    "        solar_azimuth=solpos['azimuth'])"
   ]
  },
  {
   "cell_type": "code",
   "execution_count": 38,
   "metadata": {},
   "outputs": [
    {
     "data": {
      "text/html": [
       "<div>\n",
       "<style scoped>\n",
       "    .dataframe tbody tr th:only-of-type {\n",
       "        vertical-align: middle;\n",
       "    }\n",
       "\n",
       "    .dataframe tbody tr th {\n",
       "        vertical-align: top;\n",
       "    }\n",
       "\n",
       "    .dataframe thead th {\n",
       "        text-align: right;\n",
       "    }\n",
       "</style>\n",
       "<table border=\"1\" class=\"dataframe\">\n",
       "  <thead>\n",
       "    <tr style=\"text-align: right;\">\n",
       "      <th></th>\n",
       "      <th>POA</th>\n",
       "      <th>temp_air</th>\n",
       "      <th>temp_module</th>\n",
       "      <th>MPP_P</th>\n",
       "      <th>P</th>\n",
       "      <th>P_loss</th>\n",
       "      <th>P_in</th>\n",
       "      <th>P_o</th>\n",
       "      <th>P_plant</th>\n",
       "      <th>E_plant</th>\n",
       "    </tr>\n",
       "  </thead>\n",
       "  <tbody>\n",
       "    <tr>\n",
       "      <th>2020-01-01 00:00:00+01:00</th>\n",
       "      <td>0.0</td>\n",
       "      <td>0.00</td>\n",
       "      <td>0.00</td>\n",
       "      <td>0.0</td>\n",
       "      <td>0.0</td>\n",
       "      <td>0.0</td>\n",
       "      <td>0.0</td>\n",
       "      <td>0.0</td>\n",
       "      <td>0.0</td>\n",
       "      <td>0.0</td>\n",
       "    </tr>\n",
       "    <tr>\n",
       "      <th>2020-01-01 01:00:00+01:00</th>\n",
       "      <td>0.0</td>\n",
       "      <td>-2.65</td>\n",
       "      <td>-2.65</td>\n",
       "      <td>0.0</td>\n",
       "      <td>0.0</td>\n",
       "      <td>0.0</td>\n",
       "      <td>0.0</td>\n",
       "      <td>0.0</td>\n",
       "      <td>0.0</td>\n",
       "      <td>0.0</td>\n",
       "    </tr>\n",
       "    <tr>\n",
       "      <th>2020-01-01 02:00:00+01:00</th>\n",
       "      <td>0.0</td>\n",
       "      <td>-2.87</td>\n",
       "      <td>-2.87</td>\n",
       "      <td>0.0</td>\n",
       "      <td>0.0</td>\n",
       "      <td>0.0</td>\n",
       "      <td>0.0</td>\n",
       "      <td>0.0</td>\n",
       "      <td>0.0</td>\n",
       "      <td>0.0</td>\n",
       "    </tr>\n",
       "    <tr>\n",
       "      <th>2020-01-01 03:00:00+01:00</th>\n",
       "      <td>0.0</td>\n",
       "      <td>-3.10</td>\n",
       "      <td>-3.10</td>\n",
       "      <td>0.0</td>\n",
       "      <td>0.0</td>\n",
       "      <td>0.0</td>\n",
       "      <td>0.0</td>\n",
       "      <td>0.0</td>\n",
       "      <td>0.0</td>\n",
       "      <td>0.0</td>\n",
       "    </tr>\n",
       "    <tr>\n",
       "      <th>2020-01-01 04:00:00+01:00</th>\n",
       "      <td>0.0</td>\n",
       "      <td>-3.32</td>\n",
       "      <td>-3.32</td>\n",
       "      <td>0.0</td>\n",
       "      <td>0.0</td>\n",
       "      <td>0.0</td>\n",
       "      <td>0.0</td>\n",
       "      <td>0.0</td>\n",
       "      <td>0.0</td>\n",
       "      <td>0.0</td>\n",
       "    </tr>\n",
       "    <tr>\n",
       "      <th>...</th>\n",
       "      <td>...</td>\n",
       "      <td>...</td>\n",
       "      <td>...</td>\n",
       "      <td>...</td>\n",
       "      <td>...</td>\n",
       "      <td>...</td>\n",
       "      <td>...</td>\n",
       "      <td>...</td>\n",
       "      <td>...</td>\n",
       "      <td>...</td>\n",
       "    </tr>\n",
       "    <tr>\n",
       "      <th>2020-12-31 19:00:00+01:00</th>\n",
       "      <td>0.0</td>\n",
       "      <td>-1.30</td>\n",
       "      <td>-1.30</td>\n",
       "      <td>0.0</td>\n",
       "      <td>0.0</td>\n",
       "      <td>0.0</td>\n",
       "      <td>0.0</td>\n",
       "      <td>0.0</td>\n",
       "      <td>0.0</td>\n",
       "      <td>0.0</td>\n",
       "    </tr>\n",
       "    <tr>\n",
       "      <th>2020-12-31 20:00:00+01:00</th>\n",
       "      <td>0.0</td>\n",
       "      <td>-1.53</td>\n",
       "      <td>-1.53</td>\n",
       "      <td>0.0</td>\n",
       "      <td>0.0</td>\n",
       "      <td>0.0</td>\n",
       "      <td>0.0</td>\n",
       "      <td>0.0</td>\n",
       "      <td>0.0</td>\n",
       "      <td>0.0</td>\n",
       "    </tr>\n",
       "    <tr>\n",
       "      <th>2020-12-31 21:00:00+01:00</th>\n",
       "      <td>0.0</td>\n",
       "      <td>-1.75</td>\n",
       "      <td>-1.75</td>\n",
       "      <td>0.0</td>\n",
       "      <td>0.0</td>\n",
       "      <td>0.0</td>\n",
       "      <td>0.0</td>\n",
       "      <td>0.0</td>\n",
       "      <td>0.0</td>\n",
       "      <td>0.0</td>\n",
       "    </tr>\n",
       "    <tr>\n",
       "      <th>2020-12-31 22:00:00+01:00</th>\n",
       "      <td>0.0</td>\n",
       "      <td>-1.98</td>\n",
       "      <td>-1.98</td>\n",
       "      <td>0.0</td>\n",
       "      <td>0.0</td>\n",
       "      <td>0.0</td>\n",
       "      <td>0.0</td>\n",
       "      <td>0.0</td>\n",
       "      <td>0.0</td>\n",
       "      <td>0.0</td>\n",
       "    </tr>\n",
       "    <tr>\n",
       "      <th>2020-12-31 23:00:00+01:00</th>\n",
       "      <td>0.0</td>\n",
       "      <td>-2.20</td>\n",
       "      <td>-2.20</td>\n",
       "      <td>0.0</td>\n",
       "      <td>0.0</td>\n",
       "      <td>0.0</td>\n",
       "      <td>0.0</td>\n",
       "      <td>0.0</td>\n",
       "      <td>0.0</td>\n",
       "      <td>0.0</td>\n",
       "    </tr>\n",
       "  </tbody>\n",
       "</table>\n",
       "<p>8784 rows × 10 columns</p>\n",
       "</div>"
      ],
      "text/plain": [
       "                           POA  temp_air  temp_module  MPP_P    P  P_loss  \\\n",
       "2020-01-01 00:00:00+01:00  0.0      0.00         0.00    0.0  0.0     0.0   \n",
       "2020-01-01 01:00:00+01:00  0.0     -2.65        -2.65    0.0  0.0     0.0   \n",
       "2020-01-01 02:00:00+01:00  0.0     -2.87        -2.87    0.0  0.0     0.0   \n",
       "2020-01-01 03:00:00+01:00  0.0     -3.10        -3.10    0.0  0.0     0.0   \n",
       "2020-01-01 04:00:00+01:00  0.0     -3.32        -3.32    0.0  0.0     0.0   \n",
       "...                        ...       ...          ...    ...  ...     ...   \n",
       "2020-12-31 19:00:00+01:00  0.0     -1.30        -1.30    0.0  0.0     0.0   \n",
       "2020-12-31 20:00:00+01:00  0.0     -1.53        -1.53    0.0  0.0     0.0   \n",
       "2020-12-31 21:00:00+01:00  0.0     -1.75        -1.75    0.0  0.0     0.0   \n",
       "2020-12-31 22:00:00+01:00  0.0     -1.98        -1.98    0.0  0.0     0.0   \n",
       "2020-12-31 23:00:00+01:00  0.0     -2.20        -2.20    0.0  0.0     0.0   \n",
       "\n",
       "                           P_in  P_o  P_plant  E_plant  \n",
       "2020-01-01 00:00:00+01:00   0.0  0.0      0.0      0.0  \n",
       "2020-01-01 01:00:00+01:00   0.0  0.0      0.0      0.0  \n",
       "2020-01-01 02:00:00+01:00   0.0  0.0      0.0      0.0  \n",
       "2020-01-01 03:00:00+01:00   0.0  0.0      0.0      0.0  \n",
       "2020-01-01 04:00:00+01:00   0.0  0.0      0.0      0.0  \n",
       "...                         ...  ...      ...      ...  \n",
       "2020-12-31 19:00:00+01:00   0.0  0.0      0.0      0.0  \n",
       "2020-12-31 20:00:00+01:00   0.0  0.0      0.0      0.0  \n",
       "2020-12-31 21:00:00+01:00   0.0  0.0      0.0      0.0  \n",
       "2020-12-31 22:00:00+01:00   0.0  0.0      0.0      0.0  \n",
       "2020-12-31 23:00:00+01:00   0.0  0.0      0.0      0.0  \n",
       "\n",
       "[8784 rows x 10 columns]"
      ]
     },
     "execution_count": 38,
     "metadata": {},
     "output_type": "execute_result"
    }
   ],
   "source": [
    "#Przygotowanie tabeli wynikowej\n",
    "calc_tbl = irradiance_tbl.join(weather, how='left')\n",
    "calc_tbl.fillna(0,inplace=True)\n",
    "calc_tbl = calc_tbl[['poa_global','temp_air']]\n",
    "calc_tbl.columns = ['POA','temp_air']\n",
    "\n",
    "#Temperatura modułu PV\n",
    "calc_tbl = calc_tbl.assign(temp_module = calc_tbl['temp_air'] + (calc_tbl['POA']/800)*(T_NOCT-20) )\n",
    "\n",
    "#Moc MPP modułu PV\n",
    "calc_tbl = calc_tbl.assign(MPP_P = P_n * (calc_tbl['POA']/1000)*(1-(T_coeff_Pmax/100)*(calc_tbl['temp_module']-25)))\n",
    "\n",
    "#Rzeczywista moc wyjściowa na module PV\n",
    "calc_tbl = calc_tbl.assign(P = (1-d)*(1-Ac)*calc_tbl['MPP_P'])\n",
    "\n",
    "#Straty względem mocy MPP\n",
    "calc_tbl = calc_tbl.assign(P_loss = calc_tbl['MPP_P']-calc_tbl['P'])\n",
    "\n",
    "#Moc wejściowa na falowniku (wyjściowa z zestawu modułów PV podłączonych do jednego falownika)\n",
    "calc_tbl = calc_tbl.assign(P_in = n_s*n_r*n_i_mppt*n_k_dc*(1-n_n)*calc_tbl['P'])\n",
    "\n",
    "#Moc wyjściowa na falowniku\n",
    "def calc_power_output(x):\n",
    "    if x <= P_i_k:\n",
    "        return 0\n",
    "    elif x > P_i_max:\n",
    "        return P_i_max * n_i_conv\n",
    "    else:\n",
    "        return x * n_i_conv\n",
    "\n",
    "calc_tbl = calc_tbl.assign(P_o = calc_tbl['P_in'].apply(calc_power_output))\n",
    "\n",
    "#Moc jaką elektrownia może przekazać do sieci\n",
    "calc_tbl = calc_tbl.assign(P_plant = (n_t * n_k_ac * calc_tbl['P_o'] * n_i))\n",
    "\n",
    "#Energia jaką elektrownia może przekazać do sieci\n",
    "calc_tbl = calc_tbl.assign(E_plant = (EAF * calc_tbl['P_plant'] * timestep))\n",
    "\n",
    "calc_tbl"
   ]
  },
  {
   "cell_type": "code",
   "execution_count": 39,
   "metadata": {},
   "outputs": [
    {
     "data": {
      "text/html": [
       "<div>\n",
       "<style scoped>\n",
       "    .dataframe tbody tr th:only-of-type {\n",
       "        vertical-align: middle;\n",
       "    }\n",
       "\n",
       "    .dataframe tbody tr th {\n",
       "        vertical-align: top;\n",
       "    }\n",
       "\n",
       "    .dataframe thead th {\n",
       "        text-align: right;\n",
       "    }\n",
       "</style>\n",
       "<table border=\"1\" class=\"dataframe\">\n",
       "  <thead>\n",
       "    <tr style=\"text-align: right;\">\n",
       "      <th></th>\n",
       "      <th>Year_Month</th>\n",
       "      <th>POA_kWh_m2</th>\n",
       "      <th>E_plant_MWh</th>\n",
       "    </tr>\n",
       "  </thead>\n",
       "  <tbody>\n",
       "    <tr>\n",
       "      <th>0</th>\n",
       "      <td>2020-01</td>\n",
       "      <td>43.60</td>\n",
       "      <td>359.50</td>\n",
       "    </tr>\n",
       "    <tr>\n",
       "      <th>1</th>\n",
       "      <td>2020-02</td>\n",
       "      <td>52.11</td>\n",
       "      <td>451.60</td>\n",
       "    </tr>\n",
       "    <tr>\n",
       "      <th>2</th>\n",
       "      <td>2020-03</td>\n",
       "      <td>100.82</td>\n",
       "      <td>885.55</td>\n",
       "    </tr>\n",
       "    <tr>\n",
       "      <th>3</th>\n",
       "      <td>2020-04</td>\n",
       "      <td>139.01</td>\n",
       "      <td>1286.77</td>\n",
       "    </tr>\n",
       "    <tr>\n",
       "      <th>4</th>\n",
       "      <td>2020-05</td>\n",
       "      <td>141.95</td>\n",
       "      <td>1323.56</td>\n",
       "    </tr>\n",
       "    <tr>\n",
       "      <th>5</th>\n",
       "      <td>2020-06</td>\n",
       "      <td>140.70</td>\n",
       "      <td>1323.42</td>\n",
       "    </tr>\n",
       "    <tr>\n",
       "      <th>6</th>\n",
       "      <td>2020-07</td>\n",
       "      <td>151.09</td>\n",
       "      <td>1450.73</td>\n",
       "    </tr>\n",
       "    <tr>\n",
       "      <th>7</th>\n",
       "      <td>2020-08</td>\n",
       "      <td>187.33</td>\n",
       "      <td>1832.19</td>\n",
       "    </tr>\n",
       "    <tr>\n",
       "      <th>8</th>\n",
       "      <td>2020-09</td>\n",
       "      <td>106.19</td>\n",
       "      <td>992.20</td>\n",
       "    </tr>\n",
       "    <tr>\n",
       "      <th>9</th>\n",
       "      <td>2020-10</td>\n",
       "      <td>90.00</td>\n",
       "      <td>828.33</td>\n",
       "    </tr>\n",
       "    <tr>\n",
       "      <th>10</th>\n",
       "      <td>2020-11</td>\n",
       "      <td>34.73</td>\n",
       "      <td>305.56</td>\n",
       "    </tr>\n",
       "    <tr>\n",
       "      <th>11</th>\n",
       "      <td>2020-12</td>\n",
       "      <td>29.42</td>\n",
       "      <td>242.23</td>\n",
       "    </tr>\n",
       "  </tbody>\n",
       "</table>\n",
       "</div>"
      ],
      "text/plain": [
       "   Year_Month  POA_kWh_m2  E_plant_MWh\n",
       "0     2020-01       43.60       359.50\n",
       "1     2020-02       52.11       451.60\n",
       "2     2020-03      100.82       885.55\n",
       "3     2020-04      139.01      1286.77\n",
       "4     2020-05      141.95      1323.56\n",
       "5     2020-06      140.70      1323.42\n",
       "6     2020-07      151.09      1450.73\n",
       "7     2020-08      187.33      1832.19\n",
       "8     2020-09      106.19       992.20\n",
       "9     2020-10       90.00       828.33\n",
       "10    2020-11       34.73       305.56\n",
       "11    2020-12       29.42       242.23"
      ]
     },
     "execution_count": 39,
     "metadata": {},
     "output_type": "execute_result"
    }
   ],
   "source": [
    "calc_tbl_monthly = calc_tbl.assign(Year_Month = calc_tbl.index.to_period('M'))\n",
    "calc_tbl_monthly = calc_tbl_monthly.groupby(['Year_Month'])['POA','E_plant'].sum().reset_index()\n",
    "calc_tbl_monthly = calc_tbl_monthly.assign(POA_kWh_m2 = round(calc_tbl_monthly['POA']/1000,2))\n",
    "calc_tbl_monthly = calc_tbl_monthly.assign(E_plant_MWh = round(calc_tbl_monthly['E_plant']/1000000,2))\n",
    "calc_tbl_monthly.drop(columns=['POA','E_plant'], axis=1, inplace=True)\n",
    "\n",
    "calc_tbl_monthly"
   ]
  },
  {
   "cell_type": "code",
   "execution_count": 40,
   "metadata": {},
   "outputs": [
    {
     "data": {
      "image/png": "[encoded data removed]",
      "text/plain": [
       "<Figure size 720x288 with 1 Axes>"
      ]
     },
     "metadata": {
      "needs_background": "light"
     },
     "output_type": "display_data"
    }
   ],
   "source": [
    "time = calc_tbl_monthly.Year_Month.astype(str).tolist()\n",
    "POA_val = calc_tbl_monthly.POA_kWh_m2.tolist()\n",
    "  \n",
    "fig, ax = plt.subplots(1, 1, figsize = (10, 4))\n",
    "\n",
    "plt.plot(time, POA_val, color='red', marker='o')\n",
    "plt.title('Miesięczne napromieniowanie na powierzchnię pochyłą [kWh/m2]', fontsize=14)\n",
    "plt.grid(True)\n",
    "\n",
    "for i,j in calc_tbl_monthly.POA_kWh_m2.items():\n",
    "    ax.annotate(str(j), xy=(i, j))\n",
    "\n",
    "plt.show()"
   ]
  },
  {
   "cell_type": "code",
   "execution_count": 41,
   "metadata": {},
   "outputs": [
    {
     "data": {
      "image/png": "[encoded data removed]",
      "text/plain": [
       "<Figure size 720x288 with 1 Axes>"
      ]
     },
     "metadata": {
      "needs_background": "light"
     },
     "output_type": "display_data"
    }
   ],
   "source": [
    "labels = calc_tbl_monthly['Year_Month']\n",
    "values = calc_tbl_monthly['E_plant_MWh']\n",
    "\n",
    "x = np.arange(len(labels))\n",
    "width = 0.6\n",
    "\n",
    "fig, ax = plt.subplots(1, 1, figsize = (10, 4))\n",
    "\n",
    "rects1 = ax.bar(x, values, width)\n",
    "\n",
    "ax.set_title('Energia elektryczna przekazana do sieci w elektrowni o stałym kącie pochylenia modułów PV w granulacji miesięcznej [MWh]')\n",
    "ax.set_xticks(x)\n",
    "ax.set_xticklabels(labels,rotation=45)\n",
    "plt.yticks([])\n",
    "\n",
    "def autolabel(rects):\n",
    "    \"\"\"Attach a text label above each bar in *rects*, displaying its height.\"\"\"\n",
    "    for rect in rects:\n",
    "        height = rect.get_height()\n",
    "        ax.annotate('{}'.format(height),\n",
    "                    xy=(rect.get_x() + rect.get_width() / 2, height),\n",
    "                    xytext=(0, 3),\n",
    "                    textcoords=\"offset points\",\n",
    "                    ha='center', va='bottom')\n",
    "\n",
    "autolabel(rects1)\n",
    "fig.tight_layout()\n",
    "plt.margins(y=0.15)\n",
    "\n",
    "for spine in plt.gca().spines.values():\n",
    "    spine.set_visible(False)\n",
    "        \n",
    "plt.show()"
   ]
  },
  {
   "cell_type": "code",
   "execution_count": 42,
   "metadata": {},
   "outputs": [
    {
     "name": "stdout",
     "output_type": "stream",
     "text": [
      "Energia przekazana do sieci w ciagu roku wynosi: 11281.64 [MWh]\n",
      "Roczne napromieniowanie na powierzchnię pochyłą wynosi: 1216.95 [kWh/m2]\n"
     ]
    }
   ],
   "source": [
    "E_plant_yr = round(sum(calc_tbl['E_plant'])/1000000,2)\n",
    "POA_yr = round(sum(calc_tbl['POA'])/1000,2)\n",
    "\n",
    "print(\"Energia przekazana do sieci w ciagu roku wynosi: {0} [MWh]\\nRoczne napromieniowanie na powierzchnię pochyłą wynosi: {1} [kWh/m2]\".format(E_plant_yr,POA_yr))"
   ]
  },
  {
   "cell_type": "markdown",
   "metadata": {},
   "source": [
    "#### Parametry ewaluacyjne modelu"
   ]
  },
  {
   "cell_type": "code",
   "execution_count": 43,
   "metadata": {},
   "outputs": [],
   "source": [
    "Annual_energy_kWh = calc_tbl['E_plant'].sum() / 1000\n",
    "Annual_irradiance_kWh_m2_yr = calc_tbl['POA'].sum() / 1000\n",
    "Pnom_kWp = P_c / 1000"
   ]
  },
  {
   "cell_type": "markdown",
   "metadata": {},
   "source": [
    "##### Final Yield"
   ]
  },
  {
   "cell_type": "code",
   "execution_count": 44,
   "metadata": {},
   "outputs": [
    {
     "name": "stdout",
     "output_type": "stream",
     "text": [
      "Współczynnik wydajności energetycznej (Yf) wynosi: 1064.42 h\n"
     ]
    }
   ],
   "source": [
    "Yf = Annual_energy_kWh/Pnom_kWp\n",
    "print(\"Współczynnik wydajności energetycznej (Yf) wynosi: {0} h\".format(round(Yf,2)))"
   ]
  },
  {
   "cell_type": "markdown",
   "metadata": {},
   "source": [
    "##### Performance ratio"
   ]
  },
  {
   "cell_type": "code",
   "execution_count": 45,
   "metadata": {},
   "outputs": [
    {
     "name": "stdout",
     "output_type": "stream",
     "text": [
      "Współczynnik efektywności (PR) dla rozważanego przypadku wynosi: 87.47 %\n"
     ]
    }
   ],
   "source": [
    "PR = Annual_energy_kWh/(Annual_irradiance_kWh_m2_yr*Pnom_kWp)\n",
    "print(\"Współczynnik efektywności (PR) dla rozważanego przypadku wynosi: {0} %\".format(round(PR*100,2)))"
   ]
  },
  {
   "cell_type": "markdown",
   "metadata": {},
   "source": [
    "##### Capacity utilization factor"
   ]
  },
  {
   "cell_type": "code",
   "execution_count": 46,
   "metadata": {},
   "outputs": [
    {
     "name": "stdout",
     "output_type": "stream",
     "text": [
      "Współczynnik wykorzystania zdolności produkcyjnych (CUF) dla rozważanego przypadku wynosi: 12.15 %\n"
     ]
    }
   ],
   "source": [
    "CUF = Annual_energy_kWh / (Pnom_kWp * 8760)\n",
    "print(\"Współczynnik wykorzystania zdolności produkcyjnych (CUF) dla rozważanego przypadku wynosi: {0} %\".format(round(CUF*100,2)))"
   ]
  },
  {
   "cell_type": "markdown",
   "metadata": {},
   "source": [
    "#### Analiza ekonomiczna modelu"
   ]
  },
  {
   "cell_type": "code",
   "execution_count": 47,
   "metadata": {},
   "outputs": [],
   "source": [
    "P_n_kWp = P_n/1000\n",
    "P_i_kWp = P_i_nom/1000\n",
    "P_c_kWp = P_c/1000\n",
    "E_plant_kWh = E_plant_yr * 1000"
   ]
  },
  {
   "cell_type": "code",
   "execution_count": 48,
   "metadata": {},
   "outputs": [],
   "source": [
    "C_m = 300 #Koszt modułów PV [EUR/kWp]\n",
    "C_i = 30 #Koszt inwerterów [EUR/kWp]\n",
    "C_t = 20 #Koszt step-up transformer [EUR/kWp]\n",
    "C_b = 120 #Koszty związane z wynagrodzeniem pracowników budowlanych [EUR/kWp]\n",
    "C_p = 60 #Okablowanie elektryczne, miernik, zabezpieczenia, skrzynki przyłączeniowe, szafy, rozdzielnice, łączniki, bezpieczniki, wyłącznik i inne elementy nieelektryczne [EUR/kWp]\n",
    "\n",
    "t = 25 #Długość eksploatacji elektrowni PV [lata]\n",
    "C_u = 15 #Koszty utrzymania elektrowni PV [EUR/kWp/year]\n",
    "Z_e = 0.055 #Cena energii przy odsprzedaży do sieci [EUR/kWh]"
   ]
  },
  {
   "cell_type": "markdown",
   "metadata": {},
   "source": [
    "##### Koszty inwestycyjne"
   ]
  },
  {
   "cell_type": "code",
   "execution_count": 49,
   "metadata": {},
   "outputs": [],
   "source": [
    "Ki_m = C_m * n_pv * P_n_kWp\n",
    "Ki_i = C_i * n_i * P_i_kWp\n",
    "Ki_t = C_t * P_c_kWp\n",
    "Ki_b = C_b * P_c_kWp\n",
    "Ki_p = C_p * P_c_kWp\n",
    "Ki = Ki_m + Ki_i + Ki_t + Ki_b + Ki_p\n",
    "Ki = round(Ki,2)"
   ]
  },
  {
   "cell_type": "markdown",
   "metadata": {},
   "source": [
    "##### Koszty utrzymania instalacji w okresie t eksploatacji"
   ]
  },
  {
   "cell_type": "code",
   "execution_count": 50,
   "metadata": {},
   "outputs": [],
   "source": [
    "Ku = P_c_kWp * C_u * t\n",
    "Ku = round(Ku,2)"
   ]
  },
  {
   "cell_type": "markdown",
   "metadata": {},
   "source": [
    "##### Koszty związane z wymianą elementów systemu PV"
   ]
  },
  {
   "cell_type": "code",
   "execution_count": 51,
   "metadata": {},
   "outputs": [],
   "source": [
    "n_w = int(t/15) #Ilość wymian inwerterów\n",
    "\n",
    "Kw = Ki_i * n_w\n",
    "Kw = round(Kw,2) #Koszty związane z wymianą elementów systemu PV"
   ]
  },
  {
   "cell_type": "markdown",
   "metadata": {},
   "source": [
    "#### Podsumowanie i rozkład kosztów"
   ]
  },
  {
   "cell_type": "code",
   "execution_count": 52,
   "metadata": {},
   "outputs": [
    {
     "name": "stdout",
     "output_type": "stream",
     "text": [
      "\n",
      "Koszty inwestycyjne: 5599430.4 EUR\n",
      "Koszty związane z utrzymaniem instalacji w całym okresie eksploatacji: 3974572.8 EUR [w ciągu 25 lat]\n",
      "Koszty związane z wymianą elementów systemu PV: 300000.0 EUR\n",
      "\n"
     ]
    }
   ],
   "source": [
    "print(\"\"\"\n",
    "Koszty inwestycyjne: {0} EUR\n",
    "Koszty związane z utrzymaniem instalacji w całym okresie eksploatacji: {1} EUR [w ciągu {3} lat]\n",
    "Koszty związane z wymianą elementów systemu PV: {2} EUR\n",
    "\"\"\".format(Ki, Ku, Kw,t))"
   ]
  },
  {
   "cell_type": "code",
   "execution_count": 53,
   "metadata": {},
   "outputs": [
    {
     "data": {
      "image/png": "[encoded data removed]",
      "text/plain": [
       "<Figure size 576x432 with 1 Axes>"
      ]
     },
     "metadata": {},
     "output_type": "display_data"
    }
   ],
   "source": [
    "fig, ax = plt.subplots(figsize=(8, 6), subplot_kw=dict(aspect=\"equal\"))\n",
    "data = [Ki, Ku, Kw]\n",
    "desc = ['Koszty inwestycyjne','Łączne koszty obsługi','Koszty wymiany urządzeń']\n",
    "\n",
    "def func(pct, allvals):\n",
    "    absolute = int(pct/100.*np.sum(allvals))\n",
    "    return \"{:.1f}%\\n({:d} EUR)\".format(pct, absolute)\n",
    "\n",
    "wedges, texts, autotexts = ax.pie(data,autopct=lambda pct: func(pct, data),textprops=dict(color=\"w\"))\n",
    "\n",
    "ax.legend(wedges, desc,\n",
    "          title=\"Składowe kosztów\",\n",
    "          loc=\"center left\",\n",
    "          bbox_to_anchor=(1, 0, 0.5, 1))\n",
    "\n",
    "plt.setp(autotexts, size=12, weight=\"bold\")\n",
    "ax.set_title(\"Przekrój kosztów w projekcie\")\n",
    "plt.show()"
   ]
  },
  {
   "cell_type": "markdown",
   "metadata": {},
   "source": [
    "##### Rozkład kosztów inwestycyjnych"
   ]
  },
  {
   "cell_type": "code",
   "execution_count": 54,
   "metadata": {},
   "outputs": [
    {
     "data": {
      "text/html": [
       "<style  type=\"text/css\" >\n",
       "</style><table id=\"T_4d1093e0_11f0_11eb_b9bb_98e7431394a1\" ><thead>    <tr>        <th class=\"blank level0\" ></th>        <th class=\"col_heading level0 col0\" >Koszt [EUR]</th>        <th class=\"col_heading level0 col1\" >Procent całości [%]</th>    </tr></thead><tbody>\n",
       "                <tr>\n",
       "                        <th id=\"T_4d1093e0_11f0_11eb_b9bb_98e7431394a1level0_row0\" class=\"row_heading level0 row0\" >Moduły PV</th>\n",
       "                        <td id=\"T_4d1093e0_11f0_11eb_b9bb_98e7431394a1row0_col0\" class=\"data row0 col0\" >3179658.24</td>\n",
       "                        <td id=\"T_4d1093e0_11f0_11eb_b9bb_98e7431394a1row0_col1\" class=\"data row0 col1\" >56.78</td>\n",
       "            </tr>\n",
       "            <tr>\n",
       "                        <th id=\"T_4d1093e0_11f0_11eb_b9bb_98e7431394a1level0_row1\" class=\"row_heading level0 row1\" >Inwertery</th>\n",
       "                        <td id=\"T_4d1093e0_11f0_11eb_b9bb_98e7431394a1row1_col0\" class=\"data row1 col0\" >300000.00</td>\n",
       "                        <td id=\"T_4d1093e0_11f0_11eb_b9bb_98e7431394a1row1_col1\" class=\"data row1 col1\" >5.36</td>\n",
       "            </tr>\n",
       "            <tr>\n",
       "                        <th id=\"T_4d1093e0_11f0_11eb_b9bb_98e7431394a1level0_row2\" class=\"row_heading level0 row2\" >Transformator</th>\n",
       "                        <td id=\"T_4d1093e0_11f0_11eb_b9bb_98e7431394a1row2_col0\" class=\"data row2 col0\" >211977.22</td>\n",
       "                        <td id=\"T_4d1093e0_11f0_11eb_b9bb_98e7431394a1row2_col1\" class=\"data row2 col1\" >3.79</td>\n",
       "            </tr>\n",
       "            <tr>\n",
       "                        <th id=\"T_4d1093e0_11f0_11eb_b9bb_98e7431394a1level0_row3\" class=\"row_heading level0 row3\" >Montaż</th>\n",
       "                        <td id=\"T_4d1093e0_11f0_11eb_b9bb_98e7431394a1row3_col0\" class=\"data row3 col0\" >1271863.30</td>\n",
       "                        <td id=\"T_4d1093e0_11f0_11eb_b9bb_98e7431394a1row3_col1\" class=\"data row3 col1\" >22.71</td>\n",
       "            </tr>\n",
       "            <tr>\n",
       "                        <th id=\"T_4d1093e0_11f0_11eb_b9bb_98e7431394a1level0_row4\" class=\"row_heading level0 row4\" >Pozostałe</th>\n",
       "                        <td id=\"T_4d1093e0_11f0_11eb_b9bb_98e7431394a1row4_col0\" class=\"data row4 col0\" >635931.65</td>\n",
       "                        <td id=\"T_4d1093e0_11f0_11eb_b9bb_98e7431394a1row4_col1\" class=\"data row4 col1\" >11.36</td>\n",
       "            </tr>\n",
       "            <tr>\n",
       "                        <th id=\"T_4d1093e0_11f0_11eb_b9bb_98e7431394a1level0_row5\" class=\"row_heading level0 row5\" >Total</th>\n",
       "                        <td id=\"T_4d1093e0_11f0_11eb_b9bb_98e7431394a1row5_col0\" class=\"data row5 col0\" >5599430.40</td>\n",
       "                        <td id=\"T_4d1093e0_11f0_11eb_b9bb_98e7431394a1row5_col1\" class=\"data row5 col1\" >100.00</td>\n",
       "            </tr>\n",
       "    </tbody></table>"
      ],
      "text/plain": [
       "<pandas.io.formats.style.Styler at 0x1f1074ddee0>"
      ]
     },
     "execution_count": 54,
     "metadata": {},
     "output_type": "execute_result"
    }
   ],
   "source": [
    "d1 = [Ki_m, Ki_i, Ki_t, Ki_b, Ki_p]\n",
    "d2 = list(map(lambda x: round((x/Ki)*100,3),d1))\n",
    "idx = ['Moduły PV','Inwertery','Transformator','Montaż','Pozostałe']\n",
    "capital_df = pd.DataFrame(index=idx,data= {'Koszt [EUR]':d1, 'Procent całości [%]':d2})\n",
    "capital_df.loc[\"Total\"] = capital_df.sum()\n",
    "\n",
    "capital_df.style.format(\"{:.2f}\")"
   ]
  },
  {
   "cell_type": "markdown",
   "metadata": {},
   "source": [
    "##### Przepływ pieniężny rok do roku"
   ]
  },
  {
   "cell_type": "code",
   "execution_count": 55,
   "metadata": {},
   "outputs": [
    {
     "data": {
      "text/html": [
       "<style  type=\"text/css\" >\n",
       "</style><table id=\"T_4d2cd861_11f0_11eb_9df0_98e7431394a1\" ><thead>    <tr>        <th class=\"blank level0\" ></th>        <th class=\"col_heading level0 col0\" >Wpływy</th>        <th class=\"col_heading level0 col1\" >Utrzymanie</th>        <th class=\"col_heading level0 col2\" >Wydatki_jednorazowe</th>        <th class=\"col_heading level0 col3\" >Cash_flow</th>    </tr></thead><tbody>\n",
       "                <tr>\n",
       "                        <th id=\"T_4d2cd861_11f0_11eb_9df0_98e7431394a1level0_row0\" class=\"row_heading level0 row0\" >0</th>\n",
       "                        <td id=\"T_4d2cd861_11f0_11eb_9df0_98e7431394a1row0_col0\" class=\"data row0 col0\" >0.00</td>\n",
       "                        <td id=\"T_4d2cd861_11f0_11eb_9df0_98e7431394a1row0_col1\" class=\"data row0 col1\" >0.00</td>\n",
       "                        <td id=\"T_4d2cd861_11f0_11eb_9df0_98e7431394a1row0_col2\" class=\"data row0 col2\" >-5599430.40</td>\n",
       "                        <td id=\"T_4d2cd861_11f0_11eb_9df0_98e7431394a1row0_col3\" class=\"data row0 col3\" >-5599430.40</td>\n",
       "            </tr>\n",
       "            <tr>\n",
       "                        <th id=\"T_4d2cd861_11f0_11eb_9df0_98e7431394a1level0_row1\" class=\"row_heading level0 row1\" >1</th>\n",
       "                        <td id=\"T_4d2cd861_11f0_11eb_9df0_98e7431394a1row1_col0\" class=\"data row1 col0\" >620490.20</td>\n",
       "                        <td id=\"T_4d2cd861_11f0_11eb_9df0_98e7431394a1row1_col1\" class=\"data row1 col1\" >-158982.91</td>\n",
       "                        <td id=\"T_4d2cd861_11f0_11eb_9df0_98e7431394a1row1_col2\" class=\"data row1 col2\" >0.00</td>\n",
       "                        <td id=\"T_4d2cd861_11f0_11eb_9df0_98e7431394a1row1_col3\" class=\"data row1 col3\" >461507.29</td>\n",
       "            </tr>\n",
       "            <tr>\n",
       "                        <th id=\"T_4d2cd861_11f0_11eb_9df0_98e7431394a1level0_row2\" class=\"row_heading level0 row2\" >2</th>\n",
       "                        <td id=\"T_4d2cd861_11f0_11eb_9df0_98e7431394a1row2_col0\" class=\"data row2 col0\" >620490.20</td>\n",
       "                        <td id=\"T_4d2cd861_11f0_11eb_9df0_98e7431394a1row2_col1\" class=\"data row2 col1\" >-158982.91</td>\n",
       "                        <td id=\"T_4d2cd861_11f0_11eb_9df0_98e7431394a1row2_col2\" class=\"data row2 col2\" >0.00</td>\n",
       "                        <td id=\"T_4d2cd861_11f0_11eb_9df0_98e7431394a1row2_col3\" class=\"data row2 col3\" >461507.29</td>\n",
       "            </tr>\n",
       "            <tr>\n",
       "                        <th id=\"T_4d2cd861_11f0_11eb_9df0_98e7431394a1level0_row3\" class=\"row_heading level0 row3\" >3</th>\n",
       "                        <td id=\"T_4d2cd861_11f0_11eb_9df0_98e7431394a1row3_col0\" class=\"data row3 col0\" >620490.20</td>\n",
       "                        <td id=\"T_4d2cd861_11f0_11eb_9df0_98e7431394a1row3_col1\" class=\"data row3 col1\" >-158982.91</td>\n",
       "                        <td id=\"T_4d2cd861_11f0_11eb_9df0_98e7431394a1row3_col2\" class=\"data row3 col2\" >0.00</td>\n",
       "                        <td id=\"T_4d2cd861_11f0_11eb_9df0_98e7431394a1row3_col3\" class=\"data row3 col3\" >461507.29</td>\n",
       "            </tr>\n",
       "            <tr>\n",
       "                        <th id=\"T_4d2cd861_11f0_11eb_9df0_98e7431394a1level0_row4\" class=\"row_heading level0 row4\" >4</th>\n",
       "                        <td id=\"T_4d2cd861_11f0_11eb_9df0_98e7431394a1row4_col0\" class=\"data row4 col0\" >620490.20</td>\n",
       "                        <td id=\"T_4d2cd861_11f0_11eb_9df0_98e7431394a1row4_col1\" class=\"data row4 col1\" >-158982.91</td>\n",
       "                        <td id=\"T_4d2cd861_11f0_11eb_9df0_98e7431394a1row4_col2\" class=\"data row4 col2\" >0.00</td>\n",
       "                        <td id=\"T_4d2cd861_11f0_11eb_9df0_98e7431394a1row4_col3\" class=\"data row4 col3\" >461507.29</td>\n",
       "            </tr>\n",
       "            <tr>\n",
       "                        <th id=\"T_4d2cd861_11f0_11eb_9df0_98e7431394a1level0_row5\" class=\"row_heading level0 row5\" >5</th>\n",
       "                        <td id=\"T_4d2cd861_11f0_11eb_9df0_98e7431394a1row5_col0\" class=\"data row5 col0\" >620490.20</td>\n",
       "                        <td id=\"T_4d2cd861_11f0_11eb_9df0_98e7431394a1row5_col1\" class=\"data row5 col1\" >-158982.91</td>\n",
       "                        <td id=\"T_4d2cd861_11f0_11eb_9df0_98e7431394a1row5_col2\" class=\"data row5 col2\" >0.00</td>\n",
       "                        <td id=\"T_4d2cd861_11f0_11eb_9df0_98e7431394a1row5_col3\" class=\"data row5 col3\" >461507.29</td>\n",
       "            </tr>\n",
       "            <tr>\n",
       "                        <th id=\"T_4d2cd861_11f0_11eb_9df0_98e7431394a1level0_row6\" class=\"row_heading level0 row6\" >6</th>\n",
       "                        <td id=\"T_4d2cd861_11f0_11eb_9df0_98e7431394a1row6_col0\" class=\"data row6 col0\" >620490.20</td>\n",
       "                        <td id=\"T_4d2cd861_11f0_11eb_9df0_98e7431394a1row6_col1\" class=\"data row6 col1\" >-158982.91</td>\n",
       "                        <td id=\"T_4d2cd861_11f0_11eb_9df0_98e7431394a1row6_col2\" class=\"data row6 col2\" >0.00</td>\n",
       "                        <td id=\"T_4d2cd861_11f0_11eb_9df0_98e7431394a1row6_col3\" class=\"data row6 col3\" >461507.29</td>\n",
       "            </tr>\n",
       "            <tr>\n",
       "                        <th id=\"T_4d2cd861_11f0_11eb_9df0_98e7431394a1level0_row7\" class=\"row_heading level0 row7\" >7</th>\n",
       "                        <td id=\"T_4d2cd861_11f0_11eb_9df0_98e7431394a1row7_col0\" class=\"data row7 col0\" >620490.20</td>\n",
       "                        <td id=\"T_4d2cd861_11f0_11eb_9df0_98e7431394a1row7_col1\" class=\"data row7 col1\" >-158982.91</td>\n",
       "                        <td id=\"T_4d2cd861_11f0_11eb_9df0_98e7431394a1row7_col2\" class=\"data row7 col2\" >0.00</td>\n",
       "                        <td id=\"T_4d2cd861_11f0_11eb_9df0_98e7431394a1row7_col3\" class=\"data row7 col3\" >461507.29</td>\n",
       "            </tr>\n",
       "            <tr>\n",
       "                        <th id=\"T_4d2cd861_11f0_11eb_9df0_98e7431394a1level0_row8\" class=\"row_heading level0 row8\" >8</th>\n",
       "                        <td id=\"T_4d2cd861_11f0_11eb_9df0_98e7431394a1row8_col0\" class=\"data row8 col0\" >620490.20</td>\n",
       "                        <td id=\"T_4d2cd861_11f0_11eb_9df0_98e7431394a1row8_col1\" class=\"data row8 col1\" >-158982.91</td>\n",
       "                        <td id=\"T_4d2cd861_11f0_11eb_9df0_98e7431394a1row8_col2\" class=\"data row8 col2\" >0.00</td>\n",
       "                        <td id=\"T_4d2cd861_11f0_11eb_9df0_98e7431394a1row8_col3\" class=\"data row8 col3\" >461507.29</td>\n",
       "            </tr>\n",
       "            <tr>\n",
       "                        <th id=\"T_4d2cd861_11f0_11eb_9df0_98e7431394a1level0_row9\" class=\"row_heading level0 row9\" >9</th>\n",
       "                        <td id=\"T_4d2cd861_11f0_11eb_9df0_98e7431394a1row9_col0\" class=\"data row9 col0\" >620490.20</td>\n",
       "                        <td id=\"T_4d2cd861_11f0_11eb_9df0_98e7431394a1row9_col1\" class=\"data row9 col1\" >-158982.91</td>\n",
       "                        <td id=\"T_4d2cd861_11f0_11eb_9df0_98e7431394a1row9_col2\" class=\"data row9 col2\" >0.00</td>\n",
       "                        <td id=\"T_4d2cd861_11f0_11eb_9df0_98e7431394a1row9_col3\" class=\"data row9 col3\" >461507.29</td>\n",
       "            </tr>\n",
       "            <tr>\n",
       "                        <th id=\"T_4d2cd861_11f0_11eb_9df0_98e7431394a1level0_row10\" class=\"row_heading level0 row10\" >10</th>\n",
       "                        <td id=\"T_4d2cd861_11f0_11eb_9df0_98e7431394a1row10_col0\" class=\"data row10 col0\" >620490.20</td>\n",
       "                        <td id=\"T_4d2cd861_11f0_11eb_9df0_98e7431394a1row10_col1\" class=\"data row10 col1\" >-158982.91</td>\n",
       "                        <td id=\"T_4d2cd861_11f0_11eb_9df0_98e7431394a1row10_col2\" class=\"data row10 col2\" >0.00</td>\n",
       "                        <td id=\"T_4d2cd861_11f0_11eb_9df0_98e7431394a1row10_col3\" class=\"data row10 col3\" >461507.29</td>\n",
       "            </tr>\n",
       "            <tr>\n",
       "                        <th id=\"T_4d2cd861_11f0_11eb_9df0_98e7431394a1level0_row11\" class=\"row_heading level0 row11\" >11</th>\n",
       "                        <td id=\"T_4d2cd861_11f0_11eb_9df0_98e7431394a1row11_col0\" class=\"data row11 col0\" >620490.20</td>\n",
       "                        <td id=\"T_4d2cd861_11f0_11eb_9df0_98e7431394a1row11_col1\" class=\"data row11 col1\" >-158982.91</td>\n",
       "                        <td id=\"T_4d2cd861_11f0_11eb_9df0_98e7431394a1row11_col2\" class=\"data row11 col2\" >0.00</td>\n",
       "                        <td id=\"T_4d2cd861_11f0_11eb_9df0_98e7431394a1row11_col3\" class=\"data row11 col3\" >461507.29</td>\n",
       "            </tr>\n",
       "            <tr>\n",
       "                        <th id=\"T_4d2cd861_11f0_11eb_9df0_98e7431394a1level0_row12\" class=\"row_heading level0 row12\" >12</th>\n",
       "                        <td id=\"T_4d2cd861_11f0_11eb_9df0_98e7431394a1row12_col0\" class=\"data row12 col0\" >620490.20</td>\n",
       "                        <td id=\"T_4d2cd861_11f0_11eb_9df0_98e7431394a1row12_col1\" class=\"data row12 col1\" >-158982.91</td>\n",
       "                        <td id=\"T_4d2cd861_11f0_11eb_9df0_98e7431394a1row12_col2\" class=\"data row12 col2\" >0.00</td>\n",
       "                        <td id=\"T_4d2cd861_11f0_11eb_9df0_98e7431394a1row12_col3\" class=\"data row12 col3\" >461507.29</td>\n",
       "            </tr>\n",
       "            <tr>\n",
       "                        <th id=\"T_4d2cd861_11f0_11eb_9df0_98e7431394a1level0_row13\" class=\"row_heading level0 row13\" >13</th>\n",
       "                        <td id=\"T_4d2cd861_11f0_11eb_9df0_98e7431394a1row13_col0\" class=\"data row13 col0\" >620490.20</td>\n",
       "                        <td id=\"T_4d2cd861_11f0_11eb_9df0_98e7431394a1row13_col1\" class=\"data row13 col1\" >-158982.91</td>\n",
       "                        <td id=\"T_4d2cd861_11f0_11eb_9df0_98e7431394a1row13_col2\" class=\"data row13 col2\" >0.00</td>\n",
       "                        <td id=\"T_4d2cd861_11f0_11eb_9df0_98e7431394a1row13_col3\" class=\"data row13 col3\" >461507.29</td>\n",
       "            </tr>\n",
       "            <tr>\n",
       "                        <th id=\"T_4d2cd861_11f0_11eb_9df0_98e7431394a1level0_row14\" class=\"row_heading level0 row14\" >14</th>\n",
       "                        <td id=\"T_4d2cd861_11f0_11eb_9df0_98e7431394a1row14_col0\" class=\"data row14 col0\" >620490.20</td>\n",
       "                        <td id=\"T_4d2cd861_11f0_11eb_9df0_98e7431394a1row14_col1\" class=\"data row14 col1\" >-158982.91</td>\n",
       "                        <td id=\"T_4d2cd861_11f0_11eb_9df0_98e7431394a1row14_col2\" class=\"data row14 col2\" >0.00</td>\n",
       "                        <td id=\"T_4d2cd861_11f0_11eb_9df0_98e7431394a1row14_col3\" class=\"data row14 col3\" >461507.29</td>\n",
       "            </tr>\n",
       "            <tr>\n",
       "                        <th id=\"T_4d2cd861_11f0_11eb_9df0_98e7431394a1level0_row15\" class=\"row_heading level0 row15\" >15</th>\n",
       "                        <td id=\"T_4d2cd861_11f0_11eb_9df0_98e7431394a1row15_col0\" class=\"data row15 col0\" >620490.20</td>\n",
       "                        <td id=\"T_4d2cd861_11f0_11eb_9df0_98e7431394a1row15_col1\" class=\"data row15 col1\" >-158982.91</td>\n",
       "                        <td id=\"T_4d2cd861_11f0_11eb_9df0_98e7431394a1row15_col2\" class=\"data row15 col2\" >-300000.00</td>\n",
       "                        <td id=\"T_4d2cd861_11f0_11eb_9df0_98e7431394a1row15_col3\" class=\"data row15 col3\" >161507.29</td>\n",
       "            </tr>\n",
       "            <tr>\n",
       "                        <th id=\"T_4d2cd861_11f0_11eb_9df0_98e7431394a1level0_row16\" class=\"row_heading level0 row16\" >16</th>\n",
       "                        <td id=\"T_4d2cd861_11f0_11eb_9df0_98e7431394a1row16_col0\" class=\"data row16 col0\" >620490.20</td>\n",
       "                        <td id=\"T_4d2cd861_11f0_11eb_9df0_98e7431394a1row16_col1\" class=\"data row16 col1\" >-158982.91</td>\n",
       "                        <td id=\"T_4d2cd861_11f0_11eb_9df0_98e7431394a1row16_col2\" class=\"data row16 col2\" >0.00</td>\n",
       "                        <td id=\"T_4d2cd861_11f0_11eb_9df0_98e7431394a1row16_col3\" class=\"data row16 col3\" >461507.29</td>\n",
       "            </tr>\n",
       "            <tr>\n",
       "                        <th id=\"T_4d2cd861_11f0_11eb_9df0_98e7431394a1level0_row17\" class=\"row_heading level0 row17\" >17</th>\n",
       "                        <td id=\"T_4d2cd861_11f0_11eb_9df0_98e7431394a1row17_col0\" class=\"data row17 col0\" >620490.20</td>\n",
       "                        <td id=\"T_4d2cd861_11f0_11eb_9df0_98e7431394a1row17_col1\" class=\"data row17 col1\" >-158982.91</td>\n",
       "                        <td id=\"T_4d2cd861_11f0_11eb_9df0_98e7431394a1row17_col2\" class=\"data row17 col2\" >0.00</td>\n",
       "                        <td id=\"T_4d2cd861_11f0_11eb_9df0_98e7431394a1row17_col3\" class=\"data row17 col3\" >461507.29</td>\n",
       "            </tr>\n",
       "            <tr>\n",
       "                        <th id=\"T_4d2cd861_11f0_11eb_9df0_98e7431394a1level0_row18\" class=\"row_heading level0 row18\" >18</th>\n",
       "                        <td id=\"T_4d2cd861_11f0_11eb_9df0_98e7431394a1row18_col0\" class=\"data row18 col0\" >620490.20</td>\n",
       "                        <td id=\"T_4d2cd861_11f0_11eb_9df0_98e7431394a1row18_col1\" class=\"data row18 col1\" >-158982.91</td>\n",
       "                        <td id=\"T_4d2cd861_11f0_11eb_9df0_98e7431394a1row18_col2\" class=\"data row18 col2\" >0.00</td>\n",
       "                        <td id=\"T_4d2cd861_11f0_11eb_9df0_98e7431394a1row18_col3\" class=\"data row18 col3\" >461507.29</td>\n",
       "            </tr>\n",
       "            <tr>\n",
       "                        <th id=\"T_4d2cd861_11f0_11eb_9df0_98e7431394a1level0_row19\" class=\"row_heading level0 row19\" >19</th>\n",
       "                        <td id=\"T_4d2cd861_11f0_11eb_9df0_98e7431394a1row19_col0\" class=\"data row19 col0\" >620490.20</td>\n",
       "                        <td id=\"T_4d2cd861_11f0_11eb_9df0_98e7431394a1row19_col1\" class=\"data row19 col1\" >-158982.91</td>\n",
       "                        <td id=\"T_4d2cd861_11f0_11eb_9df0_98e7431394a1row19_col2\" class=\"data row19 col2\" >0.00</td>\n",
       "                        <td id=\"T_4d2cd861_11f0_11eb_9df0_98e7431394a1row19_col3\" class=\"data row19 col3\" >461507.29</td>\n",
       "            </tr>\n",
       "            <tr>\n",
       "                        <th id=\"T_4d2cd861_11f0_11eb_9df0_98e7431394a1level0_row20\" class=\"row_heading level0 row20\" >20</th>\n",
       "                        <td id=\"T_4d2cd861_11f0_11eb_9df0_98e7431394a1row20_col0\" class=\"data row20 col0\" >620490.20</td>\n",
       "                        <td id=\"T_4d2cd861_11f0_11eb_9df0_98e7431394a1row20_col1\" class=\"data row20 col1\" >-158982.91</td>\n",
       "                        <td id=\"T_4d2cd861_11f0_11eb_9df0_98e7431394a1row20_col2\" class=\"data row20 col2\" >0.00</td>\n",
       "                        <td id=\"T_4d2cd861_11f0_11eb_9df0_98e7431394a1row20_col3\" class=\"data row20 col3\" >461507.29</td>\n",
       "            </tr>\n",
       "            <tr>\n",
       "                        <th id=\"T_4d2cd861_11f0_11eb_9df0_98e7431394a1level0_row21\" class=\"row_heading level0 row21\" >21</th>\n",
       "                        <td id=\"T_4d2cd861_11f0_11eb_9df0_98e7431394a1row21_col0\" class=\"data row21 col0\" >620490.20</td>\n",
       "                        <td id=\"T_4d2cd861_11f0_11eb_9df0_98e7431394a1row21_col1\" class=\"data row21 col1\" >-158982.91</td>\n",
       "                        <td id=\"T_4d2cd861_11f0_11eb_9df0_98e7431394a1row21_col2\" class=\"data row21 col2\" >0.00</td>\n",
       "                        <td id=\"T_4d2cd861_11f0_11eb_9df0_98e7431394a1row21_col3\" class=\"data row21 col3\" >461507.29</td>\n",
       "            </tr>\n",
       "            <tr>\n",
       "                        <th id=\"T_4d2cd861_11f0_11eb_9df0_98e7431394a1level0_row22\" class=\"row_heading level0 row22\" >22</th>\n",
       "                        <td id=\"T_4d2cd861_11f0_11eb_9df0_98e7431394a1row22_col0\" class=\"data row22 col0\" >620490.20</td>\n",
       "                        <td id=\"T_4d2cd861_11f0_11eb_9df0_98e7431394a1row22_col1\" class=\"data row22 col1\" >-158982.91</td>\n",
       "                        <td id=\"T_4d2cd861_11f0_11eb_9df0_98e7431394a1row22_col2\" class=\"data row22 col2\" >0.00</td>\n",
       "                        <td id=\"T_4d2cd861_11f0_11eb_9df0_98e7431394a1row22_col3\" class=\"data row22 col3\" >461507.29</td>\n",
       "            </tr>\n",
       "            <tr>\n",
       "                        <th id=\"T_4d2cd861_11f0_11eb_9df0_98e7431394a1level0_row23\" class=\"row_heading level0 row23\" >23</th>\n",
       "                        <td id=\"T_4d2cd861_11f0_11eb_9df0_98e7431394a1row23_col0\" class=\"data row23 col0\" >620490.20</td>\n",
       "                        <td id=\"T_4d2cd861_11f0_11eb_9df0_98e7431394a1row23_col1\" class=\"data row23 col1\" >-158982.91</td>\n",
       "                        <td id=\"T_4d2cd861_11f0_11eb_9df0_98e7431394a1row23_col2\" class=\"data row23 col2\" >0.00</td>\n",
       "                        <td id=\"T_4d2cd861_11f0_11eb_9df0_98e7431394a1row23_col3\" class=\"data row23 col3\" >461507.29</td>\n",
       "            </tr>\n",
       "            <tr>\n",
       "                        <th id=\"T_4d2cd861_11f0_11eb_9df0_98e7431394a1level0_row24\" class=\"row_heading level0 row24\" >24</th>\n",
       "                        <td id=\"T_4d2cd861_11f0_11eb_9df0_98e7431394a1row24_col0\" class=\"data row24 col0\" >620490.20</td>\n",
       "                        <td id=\"T_4d2cd861_11f0_11eb_9df0_98e7431394a1row24_col1\" class=\"data row24 col1\" >-158982.91</td>\n",
       "                        <td id=\"T_4d2cd861_11f0_11eb_9df0_98e7431394a1row24_col2\" class=\"data row24 col2\" >0.00</td>\n",
       "                        <td id=\"T_4d2cd861_11f0_11eb_9df0_98e7431394a1row24_col3\" class=\"data row24 col3\" >461507.29</td>\n",
       "            </tr>\n",
       "            <tr>\n",
       "                        <th id=\"T_4d2cd861_11f0_11eb_9df0_98e7431394a1level0_row25\" class=\"row_heading level0 row25\" >25</th>\n",
       "                        <td id=\"T_4d2cd861_11f0_11eb_9df0_98e7431394a1row25_col0\" class=\"data row25 col0\" >620490.20</td>\n",
       "                        <td id=\"T_4d2cd861_11f0_11eb_9df0_98e7431394a1row25_col1\" class=\"data row25 col1\" >-158982.91</td>\n",
       "                        <td id=\"T_4d2cd861_11f0_11eb_9df0_98e7431394a1row25_col2\" class=\"data row25 col2\" >0.00</td>\n",
       "                        <td id=\"T_4d2cd861_11f0_11eb_9df0_98e7431394a1row25_col3\" class=\"data row25 col3\" >461507.29</td>\n",
       "            </tr>\n",
       "    </tbody></table>"
      ],
      "text/plain": [
       "<pandas.io.formats.style.Styler at 0x1f1073ed970>"
      ]
     },
     "execution_count": 55,
     "metadata": {},
     "output_type": "execute_result"
    }
   ],
   "source": [
    "cashflow_df = pd.DataFrame(index=range(0,t+1))\n",
    "cashflow_df = cashflow_df.assign(Wpływy = Z_e * E_plant_kWh)\n",
    "cashflow_df = cashflow_df.assign(Utrzymanie = -(P_c_kWp* C_u))\n",
    "cashflow_df = cashflow_df.assign(Wydatki_jednorazowe = 0)\n",
    "cashflow_df.iloc[0] = 0\n",
    "cashflow_df.iloc[0,2] = -Ki #koszty inwestycyjne\n",
    "cashflow_df.iloc[15,2] = cashflow_df.iloc[15,2] - Kw #koszty wymiany elementów systemu\n",
    "cashflow_df = cashflow_df.assign(Cash_flow = cashflow_df.sum(axis=1))\n",
    "\n",
    "cashflow_df.style.format(\"{:.2f}\")"
   ]
  },
  {
   "cell_type": "code",
   "execution_count": 56,
   "metadata": {},
   "outputs": [
    {
     "data": {
      "text/plain": [
       "[<matplotlib.lines.Line2D at 0x1f1073a2dc0>]"
      ]
     },
     "execution_count": 56,
     "metadata": {},
     "output_type": "execute_result"
    },
    {
     "data": {
      "image/png": "[encoded data removed]",
      "text/plain": [
       "<Figure size 432x288 with 1 Axes>"
      ]
     },
     "metadata": {
      "needs_background": "light"
     },
     "output_type": "display_data"
    }
   ],
   "source": [
    "plt.plot(list(cashflow_df.index), list(cashflow_df.Cash_flow))"
   ]
  },
  {
   "cell_type": "code",
   "execution_count": 57,
   "metadata": {},
   "outputs": [
    {
     "name": "stdout",
     "output_type": "stream",
     "text": [
      "\n",
      "Wskaźnik NPV wynosi: 760722.6 EUR\n",
      "\n"
     ]
    }
   ],
   "source": [
    "cashflows = list(cashflow_df.Cash_flow)\n",
    "discount_rate = 0.05\n",
    "\n",
    "npv = round(np.npv(discount_rate,cashflows),2)\n",
    "\n",
    "print(\"\"\"\n",
    "Wskaźnik NPV wynosi: {0} EUR\n",
    "\"\"\".format(npv))"
   ]
  }
 ],
 "metadata": {
  "kernelspec": {
   "display_name": "Python 3",
   "language": "python",
   "name": "python3"
  },
  "language_info": {
   "codemirror_mode": {
    "name": "ipython",
    "version": 3
   },
   "file_extension": ".py",
   "mimetype": "text/x-python",
   "name": "python",
   "nbconvert_exporter": "python",
   "pygments_lexer": "ipython3",
   "version": "3.8.3"
  },
  "varInspector": {
   "cols": {
    "lenName": 16,
    "lenType": 16,
    "lenVar": 40
   },
   "kernels_config": {
    "python": {
     "delete_cmd_postfix": "",
     "delete_cmd_prefix": "del ",
     "library": "var_list.py",
     "varRefreshCmd": "print(var_dic_list())"
    },
    "r": {
     "delete_cmd_postfix": ") ",
     "delete_cmd_prefix": "rm(",
     "library": "var_list.r",
     "varRefreshCmd": "cat(var_dic_list()) "
    }
   },
   "position": {
    "height": "443.4px",
    "left": "1221px",
    "right": "20px",
    "top": "120px",
    "width": "295px"
   },
   "types_to_exclude": [
    "module",
    "function",
    "builtin_function_or_method",
    "instance",
    "_Feature"
   ],
   "window_display": false
  }
 },
 "nbformat": 4,
 "nbformat_minor": 4
}
